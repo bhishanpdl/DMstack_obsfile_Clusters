{
  "nbformat": 4,
  "nbformat_minor": 0,
  "metadata": {
    "colab": {
      "name": "a02_flux_modelling_sklearn.ipynb",
      "provenance": []
    },
    "kernelspec": {
      "name": "python3",
      "display_name": "Python 3"
    }
  },
  "cells": [
    {
      "cell_type": "markdown",
      "metadata": {
        "id": "RiRD1a-u6bNA",
        "colab_type": "text"
      },
      "source": [
        "# Project Description\n",
        "Dataset: 167 Parameters from Astronomy LSST Project Pipeline DMSTACK.\n",
        "\n",
        "Objective: Estimate the flux of detected objects (galaxies) using various parameters.\n",
        "\n",
        "Problem type: Regression\n"
      ]
    },
    {
      "cell_type": "markdown",
      "metadata": {
        "id": "ft3QsMe06fNW",
        "colab_type": "text"
      },
      "source": [
        "# Imports"
      ]
    },
    {
      "cell_type": "code",
      "metadata": {
        "id": "BzGuAI6T6FDe",
        "colab_type": "code",
        "outputId": "7000e796-4bf7-4f44-fc42-b7bf14c7f818",
        "colab": {
          "base_uri": "https://localhost:8080/",
          "height": 34
        }
      },
      "source": [
        "import numpy as np\n",
        "import pandas as pd\n",
        "import seaborn as sns\n",
        "sns.set(color_codes=True)\n",
        "\n",
        "import matplotlib\n",
        "import matplotlib.pyplot as plt\n",
        "%matplotlib inline\n",
        "%config InlineBackend.figure_format = 'retina'\n",
        "sns.set(context='notebook', style='whitegrid', rc={'figure.figsize': (12,8)})\n",
        "plt.style.use('ggplot') # better than sns styles.\n",
        "matplotlib.rcParams['figure.figsize'] = 12,8\n",
        "\n",
        "import os\n",
        "import time\n",
        "\n",
        "# random state\n",
        "SEED=100\n",
        "np.random.seed(SEED)\n",
        "\n",
        "# Jupyter notebook settings for pandas\n",
        "#pd.set_option('display.float_format', '{:,.2g}'.format) # numbers sep by comma\n",
        "pd.options.display.float_format = '{:,.5f}'.format # df.A.value_counts().astype(float)\n",
        "from pandas.api.types import CategoricalDtype\n",
        "np.set_printoptions(precision=3)\n",
        "\n",
        "pd.set_option('display.max_columns', 100)\n",
        "pd.set_option('display.max_rows', 100) # None for all the rows\n",
        "pd.set_option('display.max_colwidth', 200)\n",
        "\n",
        "import IPython\n",
        "from IPython.display import display, HTML, Image, Markdown\n",
        "\n",
        "print([(x.__name__,x.__version__) for x in [np, pd,sns,matplotlib]])"
      ],
      "execution_count": 63,
      "outputs": [
        {
          "output_type": "stream",
          "text": [
            "[('numpy', '1.17.4'), ('pandas', '0.25.3'), ('seaborn', '0.9.0'), ('matplotlib', '3.1.2')]\n"
          ],
          "name": "stdout"
        }
      ]
    },
    {
      "cell_type": "code",
      "metadata": {
        "id": "-U4OAXLl6Jp7",
        "colab_type": "code",
        "colab": {}
      },
      "source": [
        "%%capture\n",
        "# capture will not print in notebook\n",
        "\n",
        "import sys\n",
        "ENV_COLAB = 'google.colab' in sys.modules\n",
        "\n",
        "if ENV_COLAB:\n",
        "    ## mount google drive\n",
        "    from google.colab import drive\n",
        "    drive.mount('/content/drive')\n",
        "    dat_dir = 'drive/My Drive/Colab Notebooks/data/'\n",
        "    sys.path.append(dat_dir)\n",
        "\n",
        "    # Also install my custom module\n",
        "    module_dir = 'drive/My Drive/Colab Notebooks/Bhishan_Modules/' \n",
        "    sys.path.append(module_dir)\n",
        "    !cd drive/My Drive/Colab Notebooks/Bhishan_Modules/\n",
        "    !pip install -e bhishan\n",
        "    !cd -\n",
        "\n",
        "    # pip install\n",
        "    #!pip install pyldavis\n",
        "    !pip install hyperopt\n",
        "    !pip install catboost\n",
        "    !pip install shap\n",
        "    !pip install eli5\n",
        "    #!pip install lime\n",
        "    #!pip install category_encoders # TargetEncoder\n",
        "    #!pip install optuna # hyper param opt\n",
        "\n",
        "    # faster pandas\n",
        "    # df['x'].swifter.apply(myfunc)\n",
        "    # df[['x','y']].swifter.apply(myfunc,pos_arg,keyword_arg=mykeyword_arg)\n",
        "    # !pip install swifter\n",
        "    \n",
        "    # update modules\n",
        "    !pip install -U scikit-learn\n",
        "\n",
        "    # Note: We need to restart kernel to use tqdm\n",
        "    # from tqdm.notebook import trange, tqdm\n",
        "    # tqdm.pandas()\n",
        "    # out = df['A'].progress_apply(myfunc)\n",
        "    # !pip install -U tqdm\n",
        "\n",
        "    # print\n",
        "    print('Environment: Google Colaboratory.')"
      ],
      "execution_count": 0,
      "outputs": []
    },
    {
      "cell_type": "code",
      "metadata": {
        "id": "kXnDpT8t4rwi",
        "colab_type": "code",
        "colab": {
          "base_uri": "https://localhost:8080/",
          "height": 34
        },
        "outputId": "9875ddf2-4bde-45cc-8002-044e7693cc07"
      },
      "source": [
        "import scipy\n",
        "import sklearn\n",
        "\n",
        "print([(x.__name__,x.__version__) for x in [scipy, sklearn]])"
      ],
      "execution_count": 3,
      "outputs": [
        {
          "output_type": "stream",
          "text": [
            "[('scipy', '1.3.3'), ('sklearn', '0.22')]\n"
          ],
          "name": "stdout"
        }
      ]
    },
    {
      "cell_type": "code",
      "metadata": {
        "id": "Fto8T7ZK45Jp",
        "colab_type": "code",
        "colab": {}
      },
      "source": [
        "# scale and split\n",
        "from sklearn.preprocessing import StandardScaler\n",
        "from sklearn.model_selection import train_test_split"
      ],
      "execution_count": 0,
      "outputs": []
    },
    {
      "cell_type": "code",
      "metadata": {
        "id": "CGroae9I45Rw",
        "colab_type": "code",
        "colab": {}
      },
      "source": [
        "# regressors\n",
        "from sklearn import linear_model\n",
        "from sklearn.linear_model import LinearRegression\n",
        "from sklearn.linear_model import Lasso\n",
        "from sklearn.linear_model import ElasticNet\n",
        "from sklearn.tree import DecisionTreeRegressor\n",
        "from sklearn.ensemble import RandomForestRegressor\n",
        "from sklearn.neighbors import KNeighborsRegressor\n",
        "from sklearn.ensemble import GradientBoostingRegressor"
      ],
      "execution_count": 0,
      "outputs": []
    },
    {
      "cell_type": "code",
      "metadata": {
        "id": "bJrY8XFB45YJ",
        "colab_type": "code",
        "colab": {}
      },
      "source": [
        "# pipeline\n",
        "from sklearn.pipeline import Pipeline"
      ],
      "execution_count": 0,
      "outputs": []
    },
    {
      "cell_type": "code",
      "metadata": {
        "id": "CGTB-3Vd5AjB",
        "colab_type": "code",
        "colab": {}
      },
      "source": [
        "\n",
        "# metrics\n",
        "from sklearn import metrics\n",
        "from sklearn.metrics import mean_squared_error"
      ],
      "execution_count": 0,
      "outputs": []
    },
    {
      "cell_type": "code",
      "metadata": {
        "id": "fyQjTN445Am2",
        "colab_type": "code",
        "colab": {}
      },
      "source": [
        "# cross validation\n",
        "from sklearn.model_selection import KFold\n",
        "from sklearn.model_selection import cross_val_score"
      ],
      "execution_count": 0,
      "outputs": []
    },
    {
      "cell_type": "code",
      "metadata": {
        "id": "4x5AEYvN5AqJ",
        "colab_type": "code",
        "colab": {}
      },
      "source": [
        "df_eval = pd.DataFrame({'Model': [],\n",
        "                           'Details':[],\n",
        "                           'Root Mean Squared Error (RMSE)':[],\n",
        "                           'R-squared (training)':[],\n",
        "                           'Adjusted R-squared (training)':[],\n",
        "                           'R-squared (test)':[],\n",
        "                           'Adjusted R-squared (test)':[],\n",
        "                           '5-Fold Cross Validation':[]})"
      ],
      "execution_count": 0,
      "outputs": []
    },
    {
      "cell_type": "markdown",
      "metadata": {
        "id": "KnldBOEu5H8Z",
        "colab_type": "text"
      },
      "source": [
        "# Useful Scripts"
      ]
    },
    {
      "cell_type": "code",
      "metadata": {
        "id": "yjyMGK4b5J4Y",
        "colab_type": "code",
        "colab": {}
      },
      "source": [
        "def show_method_attributes(obj, ncols=7,start=None, inside=None):\n",
        "    \"\"\" Show all the attributes of a given method.\n",
        "    Example:\n",
        "    ========\n",
        "    show_method_attributes(list)\n",
        "     \"\"\"\n",
        "\n",
        "    print(f'Object Type: {type(obj)}\\n')\n",
        "    lst = [elem for elem in dir(obj) if elem[0]!='_' ]\n",
        "    lst = [elem for elem in lst \n",
        "           if elem not in 'os np pd sys time psycopg2'.split() ]\n",
        "\n",
        "    if isinstance(start,str):\n",
        "        lst = [elem for elem in lst if elem.startswith(start)]\n",
        "        \n",
        "    if isinstance(start,tuple) or isinstance(start,list):\n",
        "        lst = [elem for elem in lst for start_elem in start\n",
        "               if elem.startswith(start_elem)]\n",
        "        \n",
        "    if isinstance(inside,str):\n",
        "        lst = [elem for elem in lst if inside in elem]\n",
        "        \n",
        "    if isinstance(inside,tuple) or isinstance(inside,list):\n",
        "        lst = [elem for elem in lst for inside_elem in inside\n",
        "               if inside_elem in elem]\n",
        "\n",
        "    return pd.DataFrame(np.array_split(lst,ncols)).T.fillna('')"
      ],
      "execution_count": 0,
      "outputs": []
    },
    {
      "cell_type": "code",
      "metadata": {
        "id": "nD_UYDha-Kuy",
        "colab_type": "code",
        "colab": {}
      },
      "source": [
        "def adjustedR2(rsquared,nrows,kcols):\n",
        "    return rsquared- (kcols-1)/(nrows-kcols) * (1-rsquared)"
      ],
      "execution_count": 0,
      "outputs": []
    },
    {
      "cell_type": "markdown",
      "metadata": {
        "id": "sT1Xs8Bn7LQV",
        "colab_type": "text"
      },
      "source": [
        "# Load the Data"
      ]
    },
    {
      "cell_type": "code",
      "metadata": {
        "id": "ypihvpcK7R8H",
        "colab_type": "code",
        "colab": {
          "base_uri": "https://localhost:8080/",
          "height": 375
        },
        "outputId": "206dc675-dbaa-4ce6-aa65-abc27e813430"
      },
      "source": [
        "ifile = dat_dir + '/flux/processed_0.h5'\n",
        "df = pd.read_hdf(ifile,key='processed')\n",
        "print(df.shape)\n",
        "display(df.info(verbose=False, memory_usage=\"deep\"))\n",
        "\n",
        "df.head()"
      ],
      "execution_count": 12,
      "outputs": [
        {
          "output_type": "stream",
          "text": [
            "(6830, 47)\n",
            "<class 'pandas.core.frame.DataFrame'>\n",
            "Int64Index: 6830 entries, 6 to 7572\n",
            "Columns: 47 entries, # calib_detected to base_ClassificationExtendedness_value\n",
            "dtypes: float32(35), int8(12)\n",
            "memory usage: 1.0 MB\n"
          ],
          "name": "stdout"
        },
        {
          "output_type": "display_data",
          "data": {
            "text/plain": [
              "None"
            ]
          },
          "metadata": {
            "tags": []
          }
        },
        {
          "output_type": "execute_result",
          "data": {
            "text/html": [
              "<div>\n",
              "<style scoped>\n",
              "    .dataframe tbody tr th:only-of-type {\n",
              "        vertical-align: middle;\n",
              "    }\n",
              "\n",
              "    .dataframe tbody tr th {\n",
              "        vertical-align: top;\n",
              "    }\n",
              "\n",
              "    .dataframe thead th {\n",
              "        text-align: right;\n",
              "    }\n",
              "</style>\n",
              "<table border=\"1\" class=\"dataframe\">\n",
              "  <thead>\n",
              "    <tr style=\"text-align: right;\">\n",
              "      <th></th>\n",
              "      <th># calib_detected</th>\n",
              "      <th>deblend_deblendedAsPsf</th>\n",
              "      <th>deblend_tooManyPeaks</th>\n",
              "      <th>deblend_rampedTemplate</th>\n",
              "      <th>base_SdssShape_flag</th>\n",
              "      <th>base_SdssShape_flag_shift</th>\n",
              "      <th>ext_shapeHSM_HsmShapeRegauss_flag</th>\n",
              "      <th>ext_shapeHSM_HsmShapeRegauss_flag_parent_source</th>\n",
              "      <th>ext_shapeHSM_HsmShapeRegauss_flag_galsim</th>\n",
              "      <th>base_PixelFlags_flag_edge</th>\n",
              "      <th>base_Variance_flag</th>\n",
              "      <th>base_Variance_flag_emptyFootprint</th>\n",
              "      <th>coord_ra</th>\n",
              "      <th>coord_dec</th>\n",
              "      <th>parent</th>\n",
              "      <th>deblend_nChild</th>\n",
              "      <th>base_GaussianCentroid_x</th>\n",
              "      <th>base_GaussianCentroid_y</th>\n",
              "      <th>base_NaiveCentroid_x</th>\n",
              "      <th>base_NaiveCentroid_y</th>\n",
              "      <th>base_SdssCentroid_x</th>\n",
              "      <th>base_SdssCentroid_y</th>\n",
              "      <th>base_SdssCentroid_xSigma</th>\n",
              "      <th>base_SdssCentroid_ySigma</th>\n",
              "      <th>base_SdssShape_xx</th>\n",
              "      <th>base_SdssShape_yy</th>\n",
              "      <th>base_SdssShape_xy</th>\n",
              "      <th>base_SdssShape_xxSigma</th>\n",
              "      <th>base_SdssShape_yySigma</th>\n",
              "      <th>base_SdssShape_xySigma</th>\n",
              "      <th>base_SdssShape_x</th>\n",
              "      <th>base_SdssShape_y</th>\n",
              "      <th>base_SdssShape_psf_xx</th>\n",
              "      <th>base_SdssShape_psf_yy</th>\n",
              "      <th>base_SdssShape_psf_xy</th>\n",
              "      <th>ext_shapeHSM_HsmPsfMoments_x</th>\n",
              "      <th>ext_shapeHSM_HsmPsfMoments_y</th>\n",
              "      <th>ext_shapeHSM_HsmPsfMoments_xx</th>\n",
              "      <th>ext_shapeHSM_HsmPsfMoments_yy</th>\n",
              "      <th>ext_shapeHSM_HsmPsfMoments_xy</th>\n",
              "      <th>ext_shapeHSM_HsmSourceMoments_x</th>\n",
              "      <th>ext_shapeHSM_HsmSourceMoments_y</th>\n",
              "      <th>ext_shapeHSM_HsmSourceMoments_xx</th>\n",
              "      <th>ext_shapeHSM_HsmSourceMoments_yy</th>\n",
              "      <th>ext_shapeHSM_HsmSourceMoments_xy</th>\n",
              "      <th>base_GaussianFlux_flux</th>\n",
              "      <th>base_ClassificationExtendedness_value</th>\n",
              "    </tr>\n",
              "  </thead>\n",
              "  <tbody>\n",
              "    <tr>\n",
              "      <th>6</th>\n",
              "      <td>0</td>\n",
              "      <td>0</td>\n",
              "      <td>1</td>\n",
              "      <td>0</td>\n",
              "      <td>0</td>\n",
              "      <td>0</td>\n",
              "      <td>1</td>\n",
              "      <td>1</td>\n",
              "      <td>0</td>\n",
              "      <td>1</td>\n",
              "      <td>0</td>\n",
              "      <td>0</td>\n",
              "      <td>0.0019000000320374966</td>\n",
              "      <td>0.0</td>\n",
              "      <td>0.0</td>\n",
              "      <td>3.0</td>\n",
              "      <td>1,671.9478759765625</td>\n",
              "      <td>28.217100143432617</td>\n",
              "      <td>1,671.065673828125</td>\n",
              "      <td>27.989900588989258</td>\n",
              "      <td>1,671.9385986328125</td>\n",
              "      <td>28.143999099731445</td>\n",
              "      <td>0.0869000032544136</td>\n",
              "      <td>0.0877000018954277</td>\n",
              "      <td>11.427900314331055</td>\n",
              "      <td>11.291399955749512</td>\n",
              "      <td>0.8927000164985657</td>\n",
              "      <td>0.48969998955726624</td>\n",
              "      <td>0.34529998898506165</td>\n",
              "      <td>0.4839000105857849</td>\n",
              "      <td>1,671.941650390625</td>\n",
              "      <td>28.171499252319336</td>\n",
              "      <td>12.173199653625488</td>\n",
              "      <td>12.25469970703125</td>\n",
              "      <td>0.776199996471405</td>\n",
              "      <td>-0.00019999999494757503</td>\n",
              "      <td>-0.00019999999494757503</td>\n",
              "      <td>12.178999900817871</td>\n",
              "      <td>12.26039981842041</td>\n",
              "      <td>0.7760999798774719</td>\n",
              "      <td>1,678.829345703125</td>\n",
              "      <td>21.18939971923828</td>\n",
              "      <td>138.0001983642578</td>\n",
              "      <td>124.21060180664062</td>\n",
              "      <td>-112.09300231933594</td>\n",
              "      <td>8,817.92578125</td>\n",
              "      <td>1.0</td>\n",
              "    </tr>\n",
              "    <tr>\n",
              "      <th>7</th>\n",
              "      <td>0</td>\n",
              "      <td>0</td>\n",
              "      <td>1</td>\n",
              "      <td>0</td>\n",
              "      <td>0</td>\n",
              "      <td>0</td>\n",
              "      <td>1</td>\n",
              "      <td>1</td>\n",
              "      <td>0</td>\n",
              "      <td>1</td>\n",
              "      <td>0</td>\n",
              "      <td>0</td>\n",
              "      <td>0.0017999999690800905</td>\n",
              "      <td>0.0</td>\n",
              "      <td>0.0</td>\n",
              "      <td>2.0</td>\n",
              "      <td>1,782.08544921875</td>\n",
              "      <td>32.915401458740234</td>\n",
              "      <td>1,782.0118408203125</td>\n",
              "      <td>32.06269836425781</td>\n",
              "      <td>1,782.11962890625</td>\n",
              "      <td>32.81840133666992</td>\n",
              "      <td>0.08669999986886978</td>\n",
              "      <td>0.09009999781847</td>\n",
              "      <td>11.542099952697754</td>\n",
              "      <td>12.422200202941895</td>\n",
              "      <td>-0.16859999299049377</td>\n",
              "      <td>0.5001999735832214</td>\n",
              "      <td>0.367000013589859</td>\n",
              "      <td>0.5382999777793884</td>\n",
              "      <td>1,782.11767578125</td>\n",
              "      <td>32.838401794433594</td>\n",
              "      <td>12.177599906921387</td>\n",
              "      <td>12.248299598693848</td>\n",
              "      <td>0.7802000045776367</td>\n",
              "      <td>-0.00019999999494757503</td>\n",
              "      <td>-0.00019999999494757503</td>\n",
              "      <td>12.183300018310547</td>\n",
              "      <td>12.253899574279785</td>\n",
              "      <td>0.7799999713897705</td>\n",
              "      <td>1,784.5943603515625</td>\n",
              "      <td>28.037399291992188</td>\n",
              "      <td>31.745500564575195</td>\n",
              "      <td>84.89839935302734</td>\n",
              "      <td>-34.8739013671875</td>\n",
              "      <td>7,491.68115234375</td>\n",
              "      <td>1.0</td>\n",
              "    </tr>\n",
              "    <tr>\n",
              "      <th>14</th>\n",
              "      <td>0</td>\n",
              "      <td>0</td>\n",
              "      <td>1</td>\n",
              "      <td>0</td>\n",
              "      <td>0</td>\n",
              "      <td>0</td>\n",
              "      <td>1</td>\n",
              "      <td>1</td>\n",
              "      <td>0</td>\n",
              "      <td>1</td>\n",
              "      <td>0</td>\n",
              "      <td>0</td>\n",
              "      <td>0.0006000000284984708</td>\n",
              "      <td>9.999999747378752e-05</td>\n",
              "      <td>0.0</td>\n",
              "      <td>3.0</td>\n",
              "      <td>2,952.80908203125</td>\n",
              "      <td>53.15800094604492</td>\n",
              "      <td>2,952.049560546875</td>\n",
              "      <td>53.00669860839844</td>\n",
              "      <td>2,952.82861328125</td>\n",
              "      <td>53.12919998168945</td>\n",
              "      <td>0.044199999421834946</td>\n",
              "      <td>0.042500000447034836</td>\n",
              "      <td>12.85159969329834</td>\n",
              "      <td>11.769200325012207</td>\n",
              "      <td>0.521399974822998</td>\n",
              "      <td>0.2639000117778778</td>\n",
              "      <td>0.17870000004768372</td>\n",
              "      <td>0.24160000681877136</td>\n",
              "      <td>2,952.819580078125</td>\n",
              "      <td>53.140201568603516</td>\n",
              "      <td>11.976799964904785</td>\n",
              "      <td>11.97659969329834</td>\n",
              "      <td>0.7926999926567078</td>\n",
              "      <td>-0.0</td>\n",
              "      <td>9.999999747378752e-05</td>\n",
              "      <td>11.982999801635742</td>\n",
              "      <td>11.982600212097168</td>\n",
              "      <td>0.7929999828338623</td>\n",
              "      <td>2,958.09326171875</td>\n",
              "      <td>45.07320022583008</td>\n",
              "      <td>69.85030364990234</td>\n",
              "      <td>140.94479370117188</td>\n",
              "      <td>-81.05059814453125</td>\n",
              "      <td>18,482.126953125</td>\n",
              "      <td>1.0</td>\n",
              "    </tr>\n",
              "    <tr>\n",
              "      <th>16</th>\n",
              "      <td>0</td>\n",
              "      <td>0</td>\n",
              "      <td>1</td>\n",
              "      <td>0</td>\n",
              "      <td>0</td>\n",
              "      <td>0</td>\n",
              "      <td>1</td>\n",
              "      <td>1</td>\n",
              "      <td>0</td>\n",
              "      <td>1</td>\n",
              "      <td>0</td>\n",
              "      <td>0</td>\n",
              "      <td>0.0024999999441206455</td>\n",
              "      <td>0.0</td>\n",
              "      <td>0.0</td>\n",
              "      <td>3.0</td>\n",
              "      <td>989.6881713867188</td>\n",
              "      <td>26.528900146484375</td>\n",
              "      <td>989.0255126953125</td>\n",
              "      <td>26.02549934387207</td>\n",
              "      <td>989.9041137695312</td>\n",
              "      <td>26.556400299072266</td>\n",
              "      <td>0.05510000139474869</td>\n",
              "      <td>0.04490000009536743</td>\n",
              "      <td>75.09269714355469</td>\n",
              "      <td>15.560799598693848</td>\n",
              "      <td>13.81760025024414</td>\n",
              "      <td>1.5398000478744507</td>\n",
              "      <td>0.534600019454956</td>\n",
              "      <td>0.3190999925136566</td>\n",
              "      <td>991.847900390625</td>\n",
              "      <td>26.871000289916992</td>\n",
              "      <td>12.03339958190918</td>\n",
              "      <td>12.240699768066406</td>\n",
              "      <td>0.7476000189781189</td>\n",
              "      <td>-0.00019999999494757503</td>\n",
              "      <td>-0.00019999999494757503</td>\n",
              "      <td>12.039600372314453</td>\n",
              "      <td>12.246100425720215</td>\n",
              "      <td>0.7476999759674072</td>\n",
              "      <td>993.5673217773438</td>\n",
              "      <td>27.14240074157715</td>\n",
              "      <td>72.79850006103516</td>\n",
              "      <td>14.63949966430664</td>\n",
              "      <td>12.477899551391602</td>\n",
              "      <td>14,024.1572265625</td>\n",
              "      <td>1.0</td>\n",
              "    </tr>\n",
              "    <tr>\n",
              "      <th>21</th>\n",
              "      <td>0</td>\n",
              "      <td>0</td>\n",
              "      <td>0</td>\n",
              "      <td>0</td>\n",
              "      <td>0</td>\n",
              "      <td>0</td>\n",
              "      <td>1</td>\n",
              "      <td>0</td>\n",
              "      <td>1</td>\n",
              "      <td>1</td>\n",
              "      <td>0</td>\n",
              "      <td>0</td>\n",
              "      <td>0.0010000000474974513</td>\n",
              "      <td>0.0</td>\n",
              "      <td>0.0</td>\n",
              "      <td>0.0</td>\n",
              "      <td>2,529.72802734375</td>\n",
              "      <td>22.630599975585938</td>\n",
              "      <td>2,529.062744140625</td>\n",
              "      <td>22.03700065612793</td>\n",
              "      <td>2,529.734375</td>\n",
              "      <td>22.628400802612305</td>\n",
              "      <td>0.07119999825954437</td>\n",
              "      <td>0.07109999656677246</td>\n",
              "      <td>10.858400344848633</td>\n",
              "      <td>10.890999794006348</td>\n",
              "      <td>0.8615999817848206</td>\n",
              "      <td>0.3885999917984009</td>\n",
              "      <td>0.2761000096797943</td>\n",
              "      <td>0.3898000121116638</td>\n",
              "      <td>2,529.732666015625</td>\n",
              "      <td>22.62980079650879</td>\n",
              "      <td>12.116900444030762</td>\n",
              "      <td>12.098699569702148</td>\n",
              "      <td>0.7897999882698059</td>\n",
              "      <td>-9.999999747378752e-05</td>\n",
              "      <td>-9.999999747378752e-05</td>\n",
              "      <td>12.123299598693848</td>\n",
              "      <td>12.104900360107422</td>\n",
              "      <td>0.7900999784469604</td>\n",
              "      <td>2,529.731201171875</td>\n",
              "      <td>22.63129997253418</td>\n",
              "      <td>10.86620044708252</td>\n",
              "      <td>10.900699615478516</td>\n",
              "      <td>0.8628000020980835</td>\n",
              "      <td>4,823.80078125</td>\n",
              "      <td>0.0</td>\n",
              "    </tr>\n",
              "  </tbody>\n",
              "</table>\n",
              "</div>"
            ],
            "text/plain": [
              "    # calib_detected  deblend_deblendedAsPsf  deblend_tooManyPeaks  \\\n",
              "6                  0                       0                     1   \n",
              "7                  0                       0                     1   \n",
              "14                 0                       0                     1   \n",
              "16                 0                       0                     1   \n",
              "21                 0                       0                     0   \n",
              "\n",
              "    deblend_rampedTemplate  base_SdssShape_flag  base_SdssShape_flag_shift  \\\n",
              "6                        0                    0                          0   \n",
              "7                        0                    0                          0   \n",
              "14                       0                    0                          0   \n",
              "16                       0                    0                          0   \n",
              "21                       0                    0                          0   \n",
              "\n",
              "    ext_shapeHSM_HsmShapeRegauss_flag  \\\n",
              "6                                   1   \n",
              "7                                   1   \n",
              "14                                  1   \n",
              "16                                  1   \n",
              "21                                  1   \n",
              "\n",
              "    ext_shapeHSM_HsmShapeRegauss_flag_parent_source  \\\n",
              "6                                                 1   \n",
              "7                                                 1   \n",
              "14                                                1   \n",
              "16                                                1   \n",
              "21                                                0   \n",
              "\n",
              "    ext_shapeHSM_HsmShapeRegauss_flag_galsim  base_PixelFlags_flag_edge  \\\n",
              "6                                          0                          1   \n",
              "7                                          0                          1   \n",
              "14                                         0                          1   \n",
              "16                                         0                          1   \n",
              "21                                         1                          1   \n",
              "\n",
              "    base_Variance_flag  base_Variance_flag_emptyFootprint  \\\n",
              "6                    0                                  0   \n",
              "7                    0                                  0   \n",
              "14                   0                                  0   \n",
              "16                   0                                  0   \n",
              "21                   0                                  0   \n",
              "\n",
              "                coord_ra             coord_dec  parent  deblend_nChild  \\\n",
              "6  0.0019000000320374966                   0.0     0.0             3.0   \n",
              "7  0.0017999999690800905                   0.0     0.0             2.0   \n",
              "14 0.0006000000284984708 9.999999747378752e-05     0.0             3.0   \n",
              "16 0.0024999999441206455                   0.0     0.0             3.0   \n",
              "21 0.0010000000474974513                   0.0     0.0             0.0   \n",
              "\n",
              "    base_GaussianCentroid_x  base_GaussianCentroid_y  base_NaiveCentroid_x  \\\n",
              "6       1,671.9478759765625       28.217100143432617    1,671.065673828125   \n",
              "7         1,782.08544921875       32.915401458740234   1,782.0118408203125   \n",
              "14        2,952.80908203125        53.15800094604492    2,952.049560546875   \n",
              "16        989.6881713867188       26.528900146484375     989.0255126953125   \n",
              "21        2,529.72802734375       22.630599975585938    2,529.062744140625   \n",
              "\n",
              "    base_NaiveCentroid_y  base_SdssCentroid_x  base_SdssCentroid_y  \\\n",
              "6     27.989900588989258  1,671.9385986328125   28.143999099731445   \n",
              "7      32.06269836425781    1,782.11962890625    32.81840133666992   \n",
              "14     53.00669860839844    2,952.82861328125    53.12919998168945   \n",
              "16     26.02549934387207    989.9041137695312   26.556400299072266   \n",
              "21     22.03700065612793         2,529.734375   22.628400802612305   \n",
              "\n",
              "    base_SdssCentroid_xSigma  base_SdssCentroid_ySigma  base_SdssShape_xx  \\\n",
              "6         0.0869000032544136        0.0877000018954277 11.427900314331055   \n",
              "7        0.08669999986886978          0.09009999781847 11.542099952697754   \n",
              "14      0.044199999421834946      0.042500000447034836  12.85159969329834   \n",
              "16       0.05510000139474869       0.04490000009536743  75.09269714355469   \n",
              "21       0.07119999825954437       0.07109999656677246 10.858400344848633   \n",
              "\n",
              "    base_SdssShape_yy    base_SdssShape_xy  base_SdssShape_xxSigma  \\\n",
              "6  11.291399955749512   0.8927000164985657     0.48969998955726624   \n",
              "7  12.422200202941895 -0.16859999299049377      0.5001999735832214   \n",
              "14 11.769200325012207    0.521399974822998      0.2639000117778778   \n",
              "16 15.560799598693848    13.81760025024414      1.5398000478744507   \n",
              "21 10.890999794006348   0.8615999817848206      0.3885999917984009   \n",
              "\n",
              "    base_SdssShape_yySigma  base_SdssShape_xySigma   base_SdssShape_x  \\\n",
              "6      0.34529998898506165      0.4839000105857849 1,671.941650390625   \n",
              "7        0.367000013589859      0.5382999777793884  1,782.11767578125   \n",
              "14     0.17870000004768372     0.24160000681877136 2,952.819580078125   \n",
              "16       0.534600019454956      0.3190999925136566   991.847900390625   \n",
              "21      0.2761000096797943      0.3898000121116638 2,529.732666015625   \n",
              "\n",
              "     base_SdssShape_y  base_SdssShape_psf_xx  base_SdssShape_psf_yy  \\\n",
              "6  28.171499252319336     12.173199653625488      12.25469970703125   \n",
              "7  32.838401794433594     12.177599906921387     12.248299598693848   \n",
              "14 53.140201568603516     11.976799964904785      11.97659969329834   \n",
              "16 26.871000289916992      12.03339958190918     12.240699768066406   \n",
              "21  22.62980079650879     12.116900444030762     12.098699569702148   \n",
              "\n",
              "    base_SdssShape_psf_xy  ext_shapeHSM_HsmPsfMoments_x  \\\n",
              "6       0.776199996471405       -0.00019999999494757503   \n",
              "7      0.7802000045776367       -0.00019999999494757503   \n",
              "14     0.7926999926567078                          -0.0   \n",
              "16     0.7476000189781189       -0.00019999999494757503   \n",
              "21     0.7897999882698059        -9.999999747378752e-05   \n",
              "\n",
              "    ext_shapeHSM_HsmPsfMoments_y  ext_shapeHSM_HsmPsfMoments_xx  \\\n",
              "6        -0.00019999999494757503             12.178999900817871   \n",
              "7        -0.00019999999494757503             12.183300018310547   \n",
              "14         9.999999747378752e-05             11.982999801635742   \n",
              "16       -0.00019999999494757503             12.039600372314453   \n",
              "21        -9.999999747378752e-05             12.123299598693848   \n",
              "\n",
              "    ext_shapeHSM_HsmPsfMoments_yy  ext_shapeHSM_HsmPsfMoments_xy  \\\n",
              "6               12.26039981842041             0.7760999798774719   \n",
              "7              12.253899574279785             0.7799999713897705   \n",
              "14             11.982600212097168             0.7929999828338623   \n",
              "16             12.246100425720215             0.7476999759674072   \n",
              "21             12.104900360107422             0.7900999784469604   \n",
              "\n",
              "    ext_shapeHSM_HsmSourceMoments_x  ext_shapeHSM_HsmSourceMoments_y  \\\n",
              "6                1,678.829345703125                21.18939971923828   \n",
              "7               1,784.5943603515625               28.037399291992188   \n",
              "14                2,958.09326171875                45.07320022583008   \n",
              "16                993.5673217773438                27.14240074157715   \n",
              "21               2,529.731201171875                22.63129997253418   \n",
              "\n",
              "    ext_shapeHSM_HsmSourceMoments_xx  ext_shapeHSM_HsmSourceMoments_yy  \\\n",
              "6                  138.0001983642578                124.21060180664062   \n",
              "7                 31.745500564575195                 84.89839935302734   \n",
              "14                 69.85030364990234                140.94479370117188   \n",
              "16                 72.79850006103516                 14.63949966430664   \n",
              "21                 10.86620044708252                10.900699615478516   \n",
              "\n",
              "    ext_shapeHSM_HsmSourceMoments_xy  base_GaussianFlux_flux  \\\n",
              "6                -112.09300231933594          8,817.92578125   \n",
              "7                  -34.8739013671875       7,491.68115234375   \n",
              "14                -81.05059814453125        18,482.126953125   \n",
              "16                12.477899551391602       14,024.1572265625   \n",
              "21                0.8628000020980835          4,823.80078125   \n",
              "\n",
              "    base_ClassificationExtendedness_value  \n",
              "6                                     1.0  \n",
              "7                                     1.0  \n",
              "14                                    1.0  \n",
              "16                                    1.0  \n",
              "21                                    0.0  "
            ]
          },
          "metadata": {
            "tags": []
          },
          "execution_count": 12
        }
      ]
    },
    {
      "cell_type": "code",
      "metadata": {
        "id": "ihMkex_eEKAs",
        "colab_type": "code",
        "colab": {
          "base_uri": "https://localhost:8080/",
          "height": 461
        },
        "outputId": "ead26f38-61e3-4ba4-ac43-1628d3c8d9ce"
      },
      "source": [
        "df.columns.to_numpy()"
      ],
      "execution_count": 13,
      "outputs": [
        {
          "output_type": "execute_result",
          "data": {
            "text/plain": [
              "array(['# calib_detected', 'deblend_deblendedAsPsf',\n",
              "       'deblend_tooManyPeaks', 'deblend_rampedTemplate',\n",
              "       'base_SdssShape_flag', 'base_SdssShape_flag_shift',\n",
              "       'ext_shapeHSM_HsmShapeRegauss_flag',\n",
              "       'ext_shapeHSM_HsmShapeRegauss_flag_parent_source',\n",
              "       'ext_shapeHSM_HsmShapeRegauss_flag_galsim',\n",
              "       'base_PixelFlags_flag_edge', 'base_Variance_flag',\n",
              "       'base_Variance_flag_emptyFootprint', 'coord_ra', 'coord_dec',\n",
              "       'parent', 'deblend_nChild', 'base_GaussianCentroid_x',\n",
              "       'base_GaussianCentroid_y', 'base_NaiveCentroid_x',\n",
              "       'base_NaiveCentroid_y', 'base_SdssCentroid_x',\n",
              "       'base_SdssCentroid_y', 'base_SdssCentroid_xSigma',\n",
              "       'base_SdssCentroid_ySigma', 'base_SdssShape_xx',\n",
              "       'base_SdssShape_yy', 'base_SdssShape_xy', 'base_SdssShape_xxSigma',\n",
              "       'base_SdssShape_yySigma', 'base_SdssShape_xySigma',\n",
              "       'base_SdssShape_x', 'base_SdssShape_y', 'base_SdssShape_psf_xx',\n",
              "       'base_SdssShape_psf_yy', 'base_SdssShape_psf_xy',\n",
              "       'ext_shapeHSM_HsmPsfMoments_x', 'ext_shapeHSM_HsmPsfMoments_y',\n",
              "       'ext_shapeHSM_HsmPsfMoments_xx', 'ext_shapeHSM_HsmPsfMoments_yy',\n",
              "       'ext_shapeHSM_HsmPsfMoments_xy', 'ext_shapeHSM_HsmSourceMoments_x',\n",
              "       'ext_shapeHSM_HsmSourceMoments_y',\n",
              "       'ext_shapeHSM_HsmSourceMoments_xx',\n",
              "       'ext_shapeHSM_HsmSourceMoments_yy',\n",
              "       'ext_shapeHSM_HsmSourceMoments_xy', 'base_GaussianFlux_flux',\n",
              "       'base_ClassificationExtendedness_value'], dtype=object)"
            ]
          },
          "metadata": {
            "tags": []
          },
          "execution_count": 13
        }
      ]
    },
    {
      "cell_type": "markdown",
      "metadata": {
        "id": "BzV62FFW8vP4",
        "colab_type": "text"
      },
      "source": [
        "# Target Distribution"
      ]
    },
    {
      "cell_type": "code",
      "metadata": {
        "id": "JJtsEUGEA_6g",
        "colab_type": "code",
        "colab": {
          "base_uri": "https://localhost:8080/",
          "height": 176
        },
        "outputId": "da759c6c-3c14-414b-b74d-30b4dfe61bbc"
      },
      "source": [
        "target = 'base_GaussianFlux_flux'\n",
        "df[target].describe()"
      ],
      "execution_count": 14,
      "outputs": [
        {
          "output_type": "execute_result",
          "data": {
            "text/plain": [
              "count               6,830.0\n",
              "mean         24,742.7265625\n",
              "std         54,128.16796875\n",
              "min       837.2340698242188\n",
              "25%     3,271.5199584960938\n",
              "50%       6,683.18408203125\n",
              "75%       16,975.2958984375\n",
              "max             526,191.125\n",
              "Name: base_GaussianFlux_flux, dtype: float64"
            ]
          },
          "metadata": {
            "tags": []
          },
          "execution_count": 14
        }
      ]
    },
    {
      "cell_type": "code",
      "metadata": {
        "id": "OWpgSG2CAy8W",
        "colab_type": "code",
        "colab": {
          "base_uri": "https://localhost:8080/",
          "height": 502
        },
        "outputId": "cb1e29c4-c0f9-46e3-d86e-9d5fe0023b52"
      },
      "source": [
        "df[target].plot(kind='hist')"
      ],
      "execution_count": 15,
      "outputs": [
        {
          "output_type": "execute_result",
          "data": {
            "text/plain": [
              "<matplotlib.axes._subplots.AxesSubplot at 0x7f374edf7ba8>"
            ]
          },
          "metadata": {
            "tags": []
          },
          "execution_count": 15
        },
        {
          "output_type": "display_data",
          "data": {
            "image/png": "[encoded data removed]",
            "text/plain": [
              "<Figure size 864x576 with 1 Axes>"
            ]
          },
          "metadata": {
            "tags": [],
            "image/png": {
              "width": 737,
              "height": 468
            }
          }
        }
      ]
    },
    {
      "cell_type": "markdown",
      "metadata": {
        "id": "65m97w_V-Amt",
        "colab_type": "text"
      },
      "source": [
        "# Train-Test split"
      ]
    },
    {
      "cell_type": "code",
      "metadata": {
        "id": "hivtgW5w-AqG",
        "colab_type": "code",
        "colab": {
          "base_uri": "https://localhost:8080/",
          "height": 34
        },
        "outputId": "eddba1f7-21ad-4c5d-cb83-e8d7f3afe3b2"
      },
      "source": [
        "Xtrain, Xtest, ytrain, ytest = train_test_split (df.drop(target,axis=1),df[target],\n",
        "                                                     test_size=0.20,\n",
        "                                                     random_state=SEED)\n",
        "\n",
        "Xtrain.shape, ytrain.shape, Xtest.shape, ytest.shape"
      ],
      "execution_count": 16,
      "outputs": [
        {
          "output_type": "execute_result",
          "data": {
            "text/plain": [
              "((5464, 46), (5464,), (1366, 46), (1366,))"
            ]
          },
          "metadata": {
            "tags": []
          },
          "execution_count": 16
        }
      ]
    },
    {
      "cell_type": "markdown",
      "metadata": {
        "id": "izFo_YEf-wIi",
        "colab_type": "text"
      },
      "source": [
        "# Making pipeline for various sklearn Regressors (with automatic scaling)"
      ]
    },
    {
      "cell_type": "code",
      "metadata": {
        "id": "XqvnP8Kx-0Fp",
        "colab_type": "code",
        "colab": {
          "base_uri": "https://localhost:8080/",
          "height": 498
        },
        "outputId": "2276ac46-4805-480c-814b-bec02400c205"
      },
      "source": [
        "%%time\n",
        "\n",
        "pipelines = []\n",
        "\n",
        "pipelines.append(('ScaledLR', Pipeline([('Scaler', StandardScaler()),\n",
        "                                    ('LR',LinearRegression(n_jobs=-1))])) )\n",
        "\n",
        "\n",
        "pipelines.append(('ScaledLASSO', Pipeline([('Scaler', StandardScaler()),\n",
        "                                           ('LASSO', Lasso())])))\n",
        "\n",
        "pipelines.append(('ScaledEN', Pipeline([('Scaler', StandardScaler()),\n",
        "                                        ('EN', ElasticNet())])))\n",
        "\n",
        "pipelines.append(('ScaledKNN', Pipeline([('Scaler', StandardScaler()),\n",
        "                                         ('KNN', KNeighborsRegressor(n_jobs=-1))])))\n",
        "\n",
        "# decision tree may not need scaling\n",
        "pipelines.append(('ScaledDT', Pipeline([('DT', DecisionTreeRegressor(\n",
        "                random_state=SEED,max_features=0.9))])))\n",
        "\n",
        "# random forest may not need scaling\n",
        "pipelines.append(('RF', Pipeline([('RF', RandomForestRegressor(\n",
        "                random_state=SEED,n_jobs=-1))])))\n",
        "\n",
        "# boosting may not need scaling\n",
        "pipelines.append(('ScaledGBR', Pipeline([('Scaler', StandardScaler()),\n",
        "                                         ('GBR', GradientBoostingRegressor(\n",
        "                random_state=SEED,n_estimators=500,max_features=0.9))])))\n",
        "\n",
        "\n",
        "df_cv = pd.DataFrame({'Model': [],\n",
        "                      '5-Fold Cross Validation Mean':[],\n",
        "                      '5-Fold Cross Validation Std':[]\n",
        "                     })\n",
        "\n",
        "# pipeline will scale the data and then fit the data\n",
        "for name, model in pipelines:\n",
        "    kfold = KFold(n_splits=5, random_state=SEED,shuffle=True)\n",
        "    cv_results = cross_val_score(model,\n",
        "                                 Xtrain,\n",
        "                                 ytrain,\n",
        "                                 cv=kfold,\n",
        "                                 verbose=True,\n",
        "                                 scoring='neg_mean_squared_error'\n",
        "                                 )\n",
        "    # add cv result to dataframe\n",
        "    df_cv.loc[len(df_cv)] = [name, cv_results.mean(), cv_results.std() ]"
      ],
      "execution_count": 17,
      "outputs": [
        {
          "output_type": "stream",
          "text": [
            "[Parallel(n_jobs=1)]: Using backend SequentialBackend with 1 concurrent workers.\n",
            "[Parallel(n_jobs=1)]: Done   5 out of   5 | elapsed:    0.2s finished\n",
            "[Parallel(n_jobs=1)]: Using backend SequentialBackend with 1 concurrent workers.\n",
            "/usr/local/lib/python3.6/dist-packages/sklearn/linear_model/_coordinate_descent.py:476: ConvergenceWarning: Objective did not converge. You might want to increase the number of iterations. Duality gap: 2123841667072.0, tolerance: 1355507712.0\n",
            "  positive)\n",
            "/usr/local/lib/python3.6/dist-packages/sklearn/linear_model/_coordinate_descent.py:476: ConvergenceWarning: Objective did not converge. You might want to increase the number of iterations. Duality gap: 1687406772224.0, tolerance: 1302479488.0\n",
            "  positive)\n",
            "/usr/local/lib/python3.6/dist-packages/sklearn/linear_model/_coordinate_descent.py:476: ConvergenceWarning: Objective did not converge. You might want to increase the number of iterations. Duality gap: 2209787674624.0, tolerance: 1277311360.0\n",
            "  positive)\n",
            "/usr/local/lib/python3.6/dist-packages/sklearn/linear_model/_coordinate_descent.py:476: ConvergenceWarning: Objective did not converge. You might want to increase the number of iterations. Duality gap: 2202983989248.0, tolerance: 1345407616.0\n",
            "  positive)\n",
            "/usr/local/lib/python3.6/dist-packages/sklearn/linear_model/_coordinate_descent.py:476: ConvergenceWarning: Objective did not converge. You might want to increase the number of iterations. Duality gap: 2444619153408.0, tolerance: 1335942272.0\n",
            "  positive)\n",
            "[Parallel(n_jobs=1)]: Done   5 out of   5 | elapsed:    0.9s finished\n",
            "[Parallel(n_jobs=1)]: Using backend SequentialBackend with 1 concurrent workers.\n",
            "[Parallel(n_jobs=1)]: Done   5 out of   5 | elapsed:    0.2s finished\n",
            "[Parallel(n_jobs=1)]: Using backend SequentialBackend with 1 concurrent workers.\n",
            "[Parallel(n_jobs=1)]: Done   5 out of   5 | elapsed:    2.6s finished\n",
            "[Parallel(n_jobs=1)]: Using backend SequentialBackend with 1 concurrent workers.\n",
            "[Parallel(n_jobs=1)]: Done   5 out of   5 | elapsed:    0.9s finished\n",
            "[Parallel(n_jobs=1)]: Using backend SequentialBackend with 1 concurrent workers.\n",
            "[Parallel(n_jobs=1)]: Done   5 out of   5 | elapsed:   43.2s finished\n",
            "[Parallel(n_jobs=1)]: Using backend SequentialBackend with 1 concurrent workers.\n"
          ],
          "name": "stderr"
        },
        {
          "output_type": "stream",
          "text": [
            "CPU times: user 1min 44s, sys: 1.55 s, total: 1min 45s\n",
            "Wall time: 2min 27s\n"
          ],
          "name": "stdout"
        },
        {
          "output_type": "stream",
          "text": [
            "[Parallel(n_jobs=1)]: Done   5 out of   5 | elapsed:  1.7min finished\n"
          ],
          "name": "stderr"
        }
      ]
    },
    {
      "cell_type": "code",
      "metadata": {
        "id": "03mYFtXRLNKV",
        "colab_type": "code",
        "colab": {
          "base_uri": "https://localhost:8080/",
          "height": 257
        },
        "outputId": "0ce244cc-9dac-4e00-c2c8-e89836235bd9"
      },
      "source": [
        "# print cv results\n",
        "# smallest rmse is best, largest negMSE is best.\n",
        "df_cv.sort_values('5-Fold Cross Validation Mean',ascending=False).round(0)"
      ],
      "execution_count": 18,
      "outputs": [
        {
          "output_type": "execute_result",
          "data": {
            "text/html": [
              "<div>\n",
              "<style scoped>\n",
              "    .dataframe tbody tr th:only-of-type {\n",
              "        vertical-align: middle;\n",
              "    }\n",
              "\n",
              "    .dataframe tbody tr th {\n",
              "        vertical-align: top;\n",
              "    }\n",
              "\n",
              "    .dataframe thead th {\n",
              "        text-align: right;\n",
              "    }\n",
              "</style>\n",
              "<table border=\"1\" class=\"dataframe\">\n",
              "  <thead>\n",
              "    <tr style=\"text-align: right;\">\n",
              "      <th></th>\n",
              "      <th>Model</th>\n",
              "      <th>5-Fold Cross Validation Mean</th>\n",
              "      <th>5-Fold Cross Validation Std</th>\n",
              "    </tr>\n",
              "  </thead>\n",
              "  <tbody>\n",
              "    <tr>\n",
              "      <th>6</th>\n",
              "      <td>ScaledGBR</td>\n",
              "      <td>-22,083,671.0</td>\n",
              "      <td>6,486,983.0</td>\n",
              "    </tr>\n",
              "    <tr>\n",
              "      <th>5</th>\n",
              "      <td>RF</td>\n",
              "      <td>-40,279,180.0</td>\n",
              "      <td>12,770,752.0</td>\n",
              "    </tr>\n",
              "    <tr>\n",
              "      <th>4</th>\n",
              "      <td>ScaledDT</td>\n",
              "      <td>-81,997,933.0</td>\n",
              "      <td>30,263,650.0</td>\n",
              "    </tr>\n",
              "    <tr>\n",
              "      <th>1</th>\n",
              "      <td>ScaledLASSO</td>\n",
              "      <td>-1,372,721,587.0</td>\n",
              "      <td>141,372,454.0</td>\n",
              "    </tr>\n",
              "    <tr>\n",
              "      <th>0</th>\n",
              "      <td>ScaledLR</td>\n",
              "      <td>-1,375,816,422.0</td>\n",
              "      <td>135,184,433.0</td>\n",
              "    </tr>\n",
              "    <tr>\n",
              "      <th>2</th>\n",
              "      <td>ScaledEN</td>\n",
              "      <td>-1,418,742,016.0</td>\n",
              "      <td>145,946,496.0</td>\n",
              "    </tr>\n",
              "    <tr>\n",
              "      <th>3</th>\n",
              "      <td>ScaledKNN</td>\n",
              "      <td>-1,508,560,896.0</td>\n",
              "      <td>133,392,429.0</td>\n",
              "    </tr>\n",
              "  </tbody>\n",
              "</table>\n",
              "</div>"
            ],
            "text/plain": [
              "         Model  5-Fold Cross Validation Mean  5-Fold Cross Validation Std\n",
              "6    ScaledGBR                 -22,083,671.0                  6,486,983.0\n",
              "5           RF                 -40,279,180.0                 12,770,752.0\n",
              "4     ScaledDT                 -81,997,933.0                 30,263,650.0\n",
              "1  ScaledLASSO              -1,372,721,587.0                141,372,454.0\n",
              "0     ScaledLR              -1,375,816,422.0                135,184,433.0\n",
              "2     ScaledEN              -1,418,742,016.0                145,946,496.0\n",
              "3    ScaledKNN              -1,508,560,896.0                133,392,429.0"
            ]
          },
          "metadata": {
            "tags": []
          },
          "execution_count": 18
        }
      ]
    },
    {
      "cell_type": "code",
      "metadata": {
        "id": "AZTdk_RcHOTF",
        "colab_type": "code",
        "colab": {
          "base_uri": "https://localhost:8080/",
          "height": 34
        },
        "outputId": "452eb861-a97e-4139-b7f5-f5506764ecb6"
      },
      "source": [
        "df_cv['5-Fold Cross Validation Mean'].max() # for cross validation always higher is better"
      ],
      "execution_count": 19,
      "outputs": [
        {
          "output_type": "execute_result",
          "data": {
            "text/plain": [
              "-22083670.818400282"
            ]
          },
          "metadata": {
            "tags": []
          },
          "execution_count": 19
        }
      ]
    },
    {
      "cell_type": "markdown",
      "metadata": {
        "id": "RiC2yxyvKR-j",
        "colab_type": "text"
      },
      "source": [
        "# Random Forest"
      ]
    },
    {
      "cell_type": "code",
      "metadata": {
        "id": "nbtQvh3mLtts",
        "colab_type": "code",
        "colab": {
          "base_uri": "https://localhost:8080/",
          "height": 87
        },
        "outputId": "9bb243a1-657e-40ee-fa5b-54dea80fd409"
      },
      "source": [
        "%%time\n",
        "\n",
        "model = RandomForestRegressor(n_estimators= 1000,\n",
        "                              random_state=SEED,\n",
        "                              n_jobs=-1,\n",
        "                                )\n",
        "\n",
        "# nested cross validation      \n",
        "kfold = KFold(n_splits=5, random_state=SEED,shuffle=True)\n",
        "cv_results = cross_val_score(model,\n",
        "                                Xtrain,\n",
        "                                ytrain,\n",
        "                                cv=kfold,\n",
        "                                verbose=True,\n",
        "                                scoring='neg_mean_squared_error'\n",
        "                                )\n",
        "# add cv result to dataframe\n",
        "df_cv.loc[len(df_cv)] = [name, cv_results.mean(), cv_results.std() ]\n",
        "\n"
      ],
      "execution_count": 20,
      "outputs": [
        {
          "output_type": "stream",
          "text": [
            "[Parallel(n_jobs=1)]: Using backend SequentialBackend with 1 concurrent workers.\n"
          ],
          "name": "stderr"
        },
        {
          "output_type": "stream",
          "text": [
            "CPU times: user 16.5 s, sys: 3.38 s, total: 19.9 s\n",
            "Wall time: 7min 4s\n"
          ],
          "name": "stdout"
        },
        {
          "output_type": "stream",
          "text": [
            "[Parallel(n_jobs=1)]: Done   5 out of   5 | elapsed:  7.1min finished\n"
          ],
          "name": "stderr"
        }
      ]
    },
    {
      "cell_type": "code",
      "metadata": {
        "id": "KDzUgANFL-Bu",
        "colab_type": "code",
        "colab": {
          "base_uri": "https://localhost:8080/",
          "height": 287
        },
        "outputId": "f1741a71-54f8-44a6-91e3-3aa5366b494a"
      },
      "source": [
        "df_cv.sort_values('5-Fold Cross Validation Mean',ascending=False).round(0)"
      ],
      "execution_count": 21,
      "outputs": [
        {
          "output_type": "execute_result",
          "data": {
            "text/html": [
              "<div>\n",
              "<style scoped>\n",
              "    .dataframe tbody tr th:only-of-type {\n",
              "        vertical-align: middle;\n",
              "    }\n",
              "\n",
              "    .dataframe tbody tr th {\n",
              "        vertical-align: top;\n",
              "    }\n",
              "\n",
              "    .dataframe thead th {\n",
              "        text-align: right;\n",
              "    }\n",
              "</style>\n",
              "<table border=\"1\" class=\"dataframe\">\n",
              "  <thead>\n",
              "    <tr style=\"text-align: right;\">\n",
              "      <th></th>\n",
              "      <th>Model</th>\n",
              "      <th>5-Fold Cross Validation Mean</th>\n",
              "      <th>5-Fold Cross Validation Std</th>\n",
              "    </tr>\n",
              "  </thead>\n",
              "  <tbody>\n",
              "    <tr>\n",
              "      <th>6</th>\n",
              "      <td>ScaledGBR</td>\n",
              "      <td>-22,083,671.0</td>\n",
              "      <td>6,486,983.0</td>\n",
              "    </tr>\n",
              "    <tr>\n",
              "      <th>7</th>\n",
              "      <td>ScaledGBR</td>\n",
              "      <td>-38,689,095.0</td>\n",
              "      <td>14,191,490.0</td>\n",
              "    </tr>\n",
              "    <tr>\n",
              "      <th>5</th>\n",
              "      <td>RF</td>\n",
              "      <td>-40,279,180.0</td>\n",
              "      <td>12,770,752.0</td>\n",
              "    </tr>\n",
              "    <tr>\n",
              "      <th>4</th>\n",
              "      <td>ScaledDT</td>\n",
              "      <td>-81,997,933.0</td>\n",
              "      <td>30,263,650.0</td>\n",
              "    </tr>\n",
              "    <tr>\n",
              "      <th>1</th>\n",
              "      <td>ScaledLASSO</td>\n",
              "      <td>-1,372,721,587.0</td>\n",
              "      <td>141,372,454.0</td>\n",
              "    </tr>\n",
              "    <tr>\n",
              "      <th>0</th>\n",
              "      <td>ScaledLR</td>\n",
              "      <td>-1,375,816,422.0</td>\n",
              "      <td>135,184,433.0</td>\n",
              "    </tr>\n",
              "    <tr>\n",
              "      <th>2</th>\n",
              "      <td>ScaledEN</td>\n",
              "      <td>-1,418,742,016.0</td>\n",
              "      <td>145,946,496.0</td>\n",
              "    </tr>\n",
              "    <tr>\n",
              "      <th>3</th>\n",
              "      <td>ScaledKNN</td>\n",
              "      <td>-1,508,560,896.0</td>\n",
              "      <td>133,392,429.0</td>\n",
              "    </tr>\n",
              "  </tbody>\n",
              "</table>\n",
              "</div>"
            ],
            "text/plain": [
              "         Model  5-Fold Cross Validation Mean  5-Fold Cross Validation Std\n",
              "6    ScaledGBR                 -22,083,671.0                  6,486,983.0\n",
              "7    ScaledGBR                 -38,689,095.0                 14,191,490.0\n",
              "5           RF                 -40,279,180.0                 12,770,752.0\n",
              "4     ScaledDT                 -81,997,933.0                 30,263,650.0\n",
              "1  ScaledLASSO              -1,372,721,587.0                141,372,454.0\n",
              "0     ScaledLR              -1,375,816,422.0                135,184,433.0\n",
              "2     ScaledEN              -1,418,742,016.0                145,946,496.0\n",
              "3    ScaledKNN              -1,508,560,896.0                133,392,429.0"
            ]
          },
          "metadata": {
            "tags": []
          },
          "execution_count": 21
        }
      ]
    },
    {
      "cell_type": "markdown",
      "metadata": {
        "id": "SM6o38frOXjN",
        "colab_type": "text"
      },
      "source": [
        "# Gradient Boosting"
      ]
    },
    {
      "cell_type": "code",
      "metadata": {
        "id": "7rwn1CvdZCeR",
        "colab_type": "code",
        "colab": {}
      },
      "source": [
        "Xtr = Xtrain\n",
        "ytr = ytrain\n",
        "Xtx = Xtest\n",
        "ytx = ytest"
      ],
      "execution_count": 0,
      "outputs": []
    },
    {
      "cell_type": "code",
      "metadata": {
        "id": "62vn8LPlZb1-",
        "colab_type": "code",
        "colab": {
          "base_uri": "https://localhost:8080/",
          "height": 176
        },
        "outputId": "0feb6d41-56f6-4b1a-c924-0aad7fdd37b8"
      },
      "source": [
        "model = GradientBoostingRegressor()\n",
        "model"
      ],
      "execution_count": 35,
      "outputs": [
        {
          "output_type": "execute_result",
          "data": {
            "text/plain": [
              "GradientBoostingRegressor(alpha=0.9, ccp_alpha=0.0, criterion='friedman_mse',\n",
              "                          init=None, learning_rate=0.1, loss='ls', max_depth=3,\n",
              "                          max_features=None, max_leaf_nodes=None,\n",
              "                          min_impurity_decrease=0.0, min_impurity_split=None,\n",
              "                          min_samples_leaf=1, min_samples_split=2,\n",
              "                          min_weight_fraction_leaf=0.0, n_estimators=100,\n",
              "                          n_iter_no_change=None, presort='deprecated',\n",
              "                          random_state=None, subsample=1.0, tol=0.0001,\n",
              "                          validation_fraction=0.1, verbose=0, warm_start=False)"
            ]
          },
          "metadata": {
            "tags": []
          },
          "execution_count": 35
        }
      ]
    },
    {
      "cell_type": "code",
      "metadata": {
        "id": "HpRf7z6xZJoV",
        "colab_type": "code",
        "colab": {
          "base_uri": "https://localhost:8080/",
          "height": 34
        },
        "outputId": "5debdc6d-f56f-4eef-e72b-fc4511e7a37c"
      },
      "source": [
        "time_start = time.time()\n",
        "\n",
        "model = GradientBoostingRegressor(random_state=SEED)\n",
        "model.fit(Xtr, ytr)\n",
        "\n",
        "ypreds = model.predict(Xtx)\n",
        "\n",
        "r2 = sklearn.metrics.r2_score(ytx, ypreds)\n",
        "ar2 = adjustedR2(r2, Xtx.shape[0], Xtx.shape[1])\n",
        "ar2 = round(ar2,6)\n",
        "\n",
        "time_taken = time.time() - time_start\n",
        "m,s = divmod(time_taken,60)\n",
        "print(f'AR2: {ar2} , Time taken: {m} min {s:.0f} sec')"
      ],
      "execution_count": 33,
      "outputs": [
        {
          "output_type": "stream",
          "text": [
            "AR2: 0.995264 , Time taken: 0.0 min 6 sec\n"
          ],
          "name": "stdout"
        }
      ]
    },
    {
      "cell_type": "markdown",
      "metadata": {
        "id": "2mzziExtZCl-",
        "colab_type": "text"
      },
      "source": [
        "# Gradient Boosting Hyper Parameter Optimization"
      ]
    },
    {
      "cell_type": "markdown",
      "metadata": {
        "id": "Rd_4stSFZShX",
        "colab_type": "text"
      },
      "source": [
        "## Model Complexity\n",
        "n_estimators, depth"
      ]
    },
    {
      "cell_type": "code",
      "metadata": {
        "id": "qfVv8nrkOhGc",
        "colab_type": "code",
        "colab": {
          "base_uri": "https://localhost:8080/",
          "height": 1000
        },
        "outputId": "c5f60909-45ad-4c59-c632-4401ef35162b"
      },
      "source": [
        "%%time\n",
        "\n",
        "from sklearn.model_selection import GridSearchCV\n",
        "from sklearn.ensemble import GradientBoostingRegressor\n",
        "\n",
        "# we use gradient boosting regressor, since it gave us the best model.\n",
        "\n",
        "param_grid = dict(n_estimators=np.array([400,500,600,700,800,1000]))\n",
        "\n",
        "model = GradientBoostingRegressor(random_state=SEED)\n",
        "kfold = KFold(n_splits=5, random_state=SEED,shuffle=True)\n",
        "\n",
        "grid = GridSearchCV(estimator=model,\n",
        "                    param_grid=param_grid,\n",
        "                    scoring='neg_mean_squared_error',\n",
        "                    verbose=50,\n",
        "                    cv=kfold)\n",
        "\n",
        "grid_result = grid.fit(Xtrain, ytrain)"
      ],
      "execution_count": 22,
      "outputs": [
        {
          "output_type": "stream",
          "text": [
            "Fitting 5 folds for each of 6 candidates, totalling 30 fits\n",
            "[Parallel(n_jobs=1)]: Using backend SequentialBackend with 1 concurrent workers.\n",
            "[CV] n_estimators=400 ................................................\n",
            "[CV] ............ n_estimators=400, score=-29411524.233, total=  17.8s\n",
            "[Parallel(n_jobs=1)]: Done   1 out of   1 | elapsed:   17.8s remaining:    0.0s\n",
            "[CV] n_estimators=400 ................................................\n",
            "[CV] ............ n_estimators=400, score=-26718843.027, total=  17.8s\n",
            "[Parallel(n_jobs=1)]: Done   2 out of   2 | elapsed:   35.6s remaining:    0.0s\n",
            "[CV] n_estimators=400 ................................................\n",
            "[CV] ............ n_estimators=400, score=-23539409.634, total=  17.8s\n",
            "[Parallel(n_jobs=1)]: Done   3 out of   3 | elapsed:   53.4s remaining:    0.0s\n",
            "[CV] n_estimators=400 ................................................\n",
            "[CV] ............ n_estimators=400, score=-20130804.411, total=  17.8s\n",
            "[Parallel(n_jobs=1)]: Done   4 out of   4 | elapsed:  1.2min remaining:    0.0s\n",
            "[CV] n_estimators=400 ................................................\n",
            "[CV] ............ n_estimators=400, score=-14659412.935, total=  17.9s\n",
            "[Parallel(n_jobs=1)]: Done   5 out of   5 | elapsed:  1.5min remaining:    0.0s\n",
            "[CV] n_estimators=500 ................................................\n",
            "[CV] ............ n_estimators=500, score=-29024749.088, total=  22.3s\n",
            "[Parallel(n_jobs=1)]: Done   6 out of   6 | elapsed:  1.9min remaining:    0.0s\n",
            "[CV] n_estimators=500 ................................................\n",
            "[CV] ............ n_estimators=500, score=-26219647.537, total=  22.2s\n",
            "[Parallel(n_jobs=1)]: Done   7 out of   7 | elapsed:  2.2min remaining:    0.0s\n",
            "[CV] n_estimators=500 ................................................\n",
            "[CV] ............ n_estimators=500, score=-22913907.586, total=  22.2s\n",
            "[Parallel(n_jobs=1)]: Done   8 out of   8 | elapsed:  2.6min remaining:    0.0s\n",
            "[CV] n_estimators=500 ................................................\n",
            "[CV] ............ n_estimators=500, score=-19735609.981, total=  22.2s\n",
            "[Parallel(n_jobs=1)]: Done   9 out of   9 | elapsed:  3.0min remaining:    0.0s\n",
            "[CV] n_estimators=500 ................................................\n",
            "[CV] ............ n_estimators=500, score=-14251469.250, total=  22.2s\n",
            "[Parallel(n_jobs=1)]: Done  10 out of  10 | elapsed:  3.3min remaining:    0.0s\n",
            "[CV] n_estimators=600 ................................................\n",
            "[CV] ............ n_estimators=600, score=-28707490.981, total=  26.7s\n",
            "[Parallel(n_jobs=1)]: Done  11 out of  11 | elapsed:  3.8min remaining:    0.0s\n",
            "[CV] n_estimators=600 ................................................\n",
            "[CV] ............ n_estimators=600, score=-25883097.999, total=  26.7s\n",
            "[Parallel(n_jobs=1)]: Done  12 out of  12 | elapsed:  4.2min remaining:    0.0s\n",
            "[CV] n_estimators=600 ................................................\n",
            "[CV] ............ n_estimators=600, score=-22777312.596, total=  26.6s\n",
            "[Parallel(n_jobs=1)]: Done  13 out of  13 | elapsed:  4.7min remaining:    0.0s\n",
            "[CV] n_estimators=600 ................................................\n",
            "[CV] ............ n_estimators=600, score=-19425784.009, total=  26.8s\n",
            "[Parallel(n_jobs=1)]: Done  14 out of  14 | elapsed:  5.1min remaining:    0.0s\n",
            "[CV] n_estimators=600 ................................................\n",
            "[CV] ............ n_estimators=600, score=-14031161.418, total=  26.6s\n",
            "[Parallel(n_jobs=1)]: Done  15 out of  15 | elapsed:  5.6min remaining:    0.0s\n",
            "[CV] n_estimators=700 ................................................\n",
            "[CV] ............ n_estimators=700, score=-28494355.341, total=  31.1s\n",
            "[Parallel(n_jobs=1)]: Done  16 out of  16 | elapsed:  6.1min remaining:    0.0s\n",
            "[CV] n_estimators=700 ................................................\n",
            "[CV] ............ n_estimators=700, score=-25639423.989, total=  31.0s\n",
            "[Parallel(n_jobs=1)]: Done  17 out of  17 | elapsed:  6.6min remaining:    0.0s\n",
            "[CV] n_estimators=700 ................................................\n",
            "[CV] ............ n_estimators=700, score=-22481967.470, total=  31.2s\n",
            "[Parallel(n_jobs=1)]: Done  18 out of  18 | elapsed:  7.1min remaining:    0.0s\n",
            "[CV] n_estimators=700 ................................................\n",
            "[CV] ............ n_estimators=700, score=-19268425.963, total=  31.1s\n",
            "[Parallel(n_jobs=1)]: Done  19 out of  19 | elapsed:  7.6min remaining:    0.0s\n",
            "[CV] n_estimators=700 ................................................\n",
            "[CV] ............ n_estimators=700, score=-13829921.066, total=  31.1s\n",
            "[Parallel(n_jobs=1)]: Done  20 out of  20 | elapsed:  8.2min remaining:    0.0s\n",
            "[CV] n_estimators=800 ................................................\n",
            "[CV] ............ n_estimators=800, score=-28259319.898, total=  35.4s\n",
            "[Parallel(n_jobs=1)]: Done  21 out of  21 | elapsed:  8.7min remaining:    0.0s\n",
            "[CV] n_estimators=800 ................................................\n",
            "[CV] ............ n_estimators=800, score=-25553438.410, total=  35.5s\n",
            "[Parallel(n_jobs=1)]: Done  22 out of  22 | elapsed:  9.3min remaining:    0.0s\n",
            "[CV] n_estimators=800 ................................................\n",
            "[CV] ............ n_estimators=800, score=-22375861.815, total=  35.5s\n",
            "[Parallel(n_jobs=1)]: Done  23 out of  23 | elapsed:  9.9min remaining:    0.0s\n",
            "[CV] n_estimators=800 ................................................\n",
            "[CV] ............ n_estimators=800, score=-19189225.499, total=  35.5s\n",
            "[Parallel(n_jobs=1)]: Done  24 out of  24 | elapsed: 10.5min remaining:    0.0s\n",
            "[CV] n_estimators=800 ................................................\n",
            "[CV] ............ n_estimators=800, score=-13730374.226, total=  35.5s\n",
            "[Parallel(n_jobs=1)]: Done  25 out of  25 | elapsed: 11.1min remaining:    0.0s\n",
            "[CV] n_estimators=1000 ...............................................\n",
            "[CV] ........... n_estimators=1000, score=-28197007.269, total=  44.3s\n",
            "[Parallel(n_jobs=1)]: Done  26 out of  26 | elapsed: 11.8min remaining:    0.0s\n",
            "[CV] n_estimators=1000 ...............................................\n",
            "[CV] ........... n_estimators=1000, score=-25310377.525, total=  44.3s\n",
            "[Parallel(n_jobs=1)]: Done  27 out of  27 | elapsed: 12.6min remaining:    0.0s\n",
            "[CV] n_estimators=1000 ...............................................\n",
            "[CV] ........... n_estimators=1000, score=-22187390.616, total=  44.3s\n",
            "[Parallel(n_jobs=1)]: Done  28 out of  28 | elapsed: 13.3min remaining:    0.0s\n",
            "[CV] n_estimators=1000 ...............................................\n",
            "[CV] ........... n_estimators=1000, score=-19138402.114, total=  44.5s\n",
            "[Parallel(n_jobs=1)]: Done  29 out of  29 | elapsed: 14.1min remaining:    0.0s\n",
            "[CV] n_estimators=1000 ...............................................\n",
            "[CV] ........... n_estimators=1000, score=-13599472.483, total=  44.5s\n",
            "[Parallel(n_jobs=1)]: Done  30 out of  30 | elapsed: 14.8min remaining:    0.0s\n",
            "[Parallel(n_jobs=1)]: Done  30 out of  30 | elapsed: 14.8min finished\n",
            "CPU times: user 15min 43s, sys: 59.5 ms, total: 15min 44s\n",
            "Wall time: 15min 44s\n"
          ],
          "name": "stdout"
        }
      ]
    },
    {
      "cell_type": "code",
      "metadata": {
        "id": "zvw5z4wHPuhA",
        "colab_type": "code",
        "colab": {
          "base_uri": "https://localhost:8080/",
          "height": 245
        },
        "outputId": "7309a63c-2385-49ae-a795-ac552cd019b5"
      },
      "source": [
        "means       = grid_result.cv_results_['mean_test_score']\n",
        "stds        = grid_result.cv_results_['std_test_score']\n",
        "params      = grid_result.cv_results_['params']\n",
        "df_grid_gbr = pd.DataFrame({'n_estimators': params,\n",
        "                           'neg_mean_squared_error': means,\n",
        "                           'std': stds})\n",
        "\n",
        "print(\"Best: %f using %s\" % (grid_result.best_score_, grid_result.best_params_))\n",
        "pd.set_option('display.float_format', '{:,.0f}'.format)\n",
        "df_grid_gbr.sort_values('neg_mean_squared_error', ascending=False)"
      ],
      "execution_count": 23,
      "outputs": [
        {
          "output_type": "stream",
          "text": [
            "Best: -21686530.001465 using {'n_estimators': 1000}\n"
          ],
          "name": "stdout"
        },
        {
          "output_type": "execute_result",
          "data": {
            "text/html": [
              "<div>\n",
              "<style scoped>\n",
              "    .dataframe tbody tr th:only-of-type {\n",
              "        vertical-align: middle;\n",
              "    }\n",
              "\n",
              "    .dataframe tbody tr th {\n",
              "        vertical-align: top;\n",
              "    }\n",
              "\n",
              "    .dataframe thead th {\n",
              "        text-align: right;\n",
              "    }\n",
              "</style>\n",
              "<table border=\"1\" class=\"dataframe\">\n",
              "  <thead>\n",
              "    <tr style=\"text-align: right;\">\n",
              "      <th></th>\n",
              "      <th>n_estimators</th>\n",
              "      <th>neg_mean_squared_error</th>\n",
              "      <th>std</th>\n",
              "    </tr>\n",
              "  </thead>\n",
              "  <tbody>\n",
              "    <tr>\n",
              "      <th>5</th>\n",
              "      <td>{'n_estimators': 1000}</td>\n",
              "      <td>-21,686,530</td>\n",
              "      <td>5,052,977</td>\n",
              "    </tr>\n",
              "    <tr>\n",
              "      <th>4</th>\n",
              "      <td>{'n_estimators': 800}</td>\n",
              "      <td>-21,821,644</td>\n",
              "      <td>5,061,134</td>\n",
              "    </tr>\n",
              "    <tr>\n",
              "      <th>3</th>\n",
              "      <td>{'n_estimators': 700}</td>\n",
              "      <td>-21,942,819</td>\n",
              "      <td>5,096,071</td>\n",
              "    </tr>\n",
              "    <tr>\n",
              "      <th>2</th>\n",
              "      <td>{'n_estimators': 600}</td>\n",
              "      <td>-22,164,969</td>\n",
              "      <td>5,112,064</td>\n",
              "    </tr>\n",
              "    <tr>\n",
              "      <th>1</th>\n",
              "      <td>{'n_estimators': 500}</td>\n",
              "      <td>-22,429,077</td>\n",
              "      <td>5,142,653</td>\n",
              "    </tr>\n",
              "    <tr>\n",
              "      <th>0</th>\n",
              "      <td>{'n_estimators': 400}</td>\n",
              "      <td>-22,891,999</td>\n",
              "      <td>5,156,894</td>\n",
              "    </tr>\n",
              "  </tbody>\n",
              "</table>\n",
              "</div>"
            ],
            "text/plain": [
              "             n_estimators  neg_mean_squared_error       std\n",
              "5  {'n_estimators': 1000}             -21,686,530 5,052,977\n",
              "4   {'n_estimators': 800}             -21,821,644 5,061,134\n",
              "3   {'n_estimators': 700}             -21,942,819 5,096,071\n",
              "2   {'n_estimators': 600}             -22,164,969 5,112,064\n",
              "1   {'n_estimators': 500}             -22,429,077 5,142,653\n",
              "0   {'n_estimators': 400}             -22,891,999 5,156,894"
            ]
          },
          "metadata": {
            "tags": []
          },
          "execution_count": 23
        }
      ]
    },
    {
      "cell_type": "code",
      "metadata": {
        "id": "mv2rBmlUO6GN",
        "colab_type": "code",
        "colab": {
          "base_uri": "https://localhost:8080/",
          "height": 905
        },
        "outputId": "11837dc9-d424-4ecf-f93d-2c0939038e36"
      },
      "source": [
        "%%time\n",
        "\n",
        "from sklearn.model_selection import GridSearchCV\n",
        "from sklearn.ensemble import GradientBoostingRegressor\n",
        "\n",
        "# we use gradient boosting regressor, since it gave us the best model.\n",
        "\n",
        "param_grid = dict(n_estimators=np.array([2000,3000,4000]))\n",
        "\n",
        "model = GradientBoostingRegressor(random_state=SEED)\n",
        "kfold = KFold(n_splits=5, random_state=SEED,shuffle=True)\n",
        "\n",
        "grid = GridSearchCV(estimator=model,\n",
        "                    param_grid=param_grid,\n",
        "                    scoring='neg_mean_squared_error',\n",
        "                    verbose=50,\n",
        "                    cv=kfold)\n",
        "\n",
        "grid_result = grid.fit(Xtrain, ytrain)"
      ],
      "execution_count": 24,
      "outputs": [
        {
          "output_type": "stream",
          "text": [
            "Fitting 5 folds for each of 3 candidates, totalling 15 fits\n",
            "[Parallel(n_jobs=1)]: Using backend SequentialBackend with 1 concurrent workers.\n",
            "[CV] n_estimators=2000 ...............................................\n",
            "[CV] ........... n_estimators=2000, score=-28072765.493, total= 1.5min\n",
            "[Parallel(n_jobs=1)]: Done   1 out of   1 | elapsed:  1.5min remaining:    0.0s\n",
            "[CV] n_estimators=2000 ...............................................\n",
            "[CV] ........... n_estimators=2000, score=-25048541.373, total= 1.5min\n",
            "[Parallel(n_jobs=1)]: Done   2 out of   2 | elapsed:  3.0min remaining:    0.0s\n",
            "[CV] n_estimators=2000 ...............................................\n",
            "[CV] ........... n_estimators=2000, score=-21951165.390, total= 1.5min\n",
            "[Parallel(n_jobs=1)]: Done   3 out of   3 | elapsed:  4.4min remaining:    0.0s\n",
            "[CV] n_estimators=2000 ...............................................\n",
            "[CV] ........... n_estimators=2000, score=-18974736.730, total= 1.5min\n",
            "[Parallel(n_jobs=1)]: Done   4 out of   4 | elapsed:  5.9min remaining:    0.0s\n",
            "[CV] n_estimators=2000 ...............................................\n",
            "[CV] ........... n_estimators=2000, score=-13380949.929, total= 1.5min\n",
            "[Parallel(n_jobs=1)]: Done   5 out of   5 | elapsed:  7.4min remaining:    0.0s\n",
            "[CV] n_estimators=3000 ...............................................\n",
            "[CV] ........... n_estimators=3000, score=-28073414.953, total= 2.2min\n",
            "[Parallel(n_jobs=1)]: Done   6 out of   6 | elapsed:  9.6min remaining:    0.0s\n",
            "[CV] n_estimators=3000 ...............................................\n",
            "[CV] ........... n_estimators=3000, score=-24989471.861, total= 2.2min\n",
            "[Parallel(n_jobs=1)]: Done   7 out of   7 | elapsed: 11.8min remaining:    0.0s\n",
            "[CV] n_estimators=3000 ...............................................\n",
            "[CV] ........... n_estimators=3000, score=-21896409.883, total= 2.2min\n",
            "[Parallel(n_jobs=1)]: Done   8 out of   8 | elapsed: 14.0min remaining:    0.0s\n",
            "[CV] n_estimators=3000 ...............................................\n",
            "[CV] ........... n_estimators=3000, score=-18921806.463, total= 2.2min\n",
            "[Parallel(n_jobs=1)]: Done   9 out of   9 | elapsed: 16.2min remaining:    0.0s\n",
            "[CV] n_estimators=3000 ...............................................\n",
            "[CV] ........... n_estimators=3000, score=-13337900.835, total= 2.2min\n",
            "[Parallel(n_jobs=1)]: Done  10 out of  10 | elapsed: 18.5min remaining:    0.0s\n",
            "[CV] n_estimators=4000 ...............................................\n",
            "[CV] ........... n_estimators=4000, score=-28072815.801, total= 3.0min\n",
            "[Parallel(n_jobs=1)]: Done  11 out of  11 | elapsed: 21.4min remaining:    0.0s\n",
            "[CV] n_estimators=4000 ...............................................\n",
            "[CV] ........... n_estimators=4000, score=-24976533.116, total= 3.0min\n",
            "[Parallel(n_jobs=1)]: Done  12 out of  12 | elapsed: 24.4min remaining:    0.0s\n",
            "[CV] n_estimators=4000 ...............................................\n",
            "[CV] ........... n_estimators=4000, score=-21891587.626, total= 3.0min\n",
            "[Parallel(n_jobs=1)]: Done  13 out of  13 | elapsed: 27.3min remaining:    0.0s\n",
            "[CV] n_estimators=4000 ...............................................\n",
            "[CV] ........... n_estimators=4000, score=-18915991.674, total= 3.0min\n",
            "[Parallel(n_jobs=1)]: Done  14 out of  14 | elapsed: 30.3min remaining:    0.0s\n",
            "[CV] n_estimators=4000 ...............................................\n",
            "[CV] ........... n_estimators=4000, score=-13318162.347, total= 2.9min\n",
            "[Parallel(n_jobs=1)]: Done  15 out of  15 | elapsed: 33.2min remaining:    0.0s\n",
            "[Parallel(n_jobs=1)]: Done  15 out of  15 | elapsed: 33.2min finished\n",
            "CPU times: user 36min 55s, sys: 178 ms, total: 36min 55s\n",
            "Wall time: 36min 57s\n"
          ],
          "name": "stdout"
        }
      ]
    },
    {
      "cell_type": "code",
      "metadata": {
        "id": "_T3bdA8XWsjE",
        "colab_type": "code",
        "colab": {
          "base_uri": "https://localhost:8080/",
          "height": 155
        },
        "outputId": "085e142b-9975-4d1f-9690-de56abc211a5"
      },
      "source": [
        "means       = grid_result.cv_results_['mean_test_score']\n",
        "stds        = grid_result.cv_results_['std_test_score']\n",
        "params      = grid_result.cv_results_['params']\n",
        "df_grid_gbr = pd.DataFrame({'n_estimators': params,\n",
        "                           'neg_mean_squared_error': means,\n",
        "                           'std': stds})\n",
        "\n",
        "print(\"Best: %f using %s\" % (grid_result.best_score_, grid_result.best_params_))\n",
        "pd.set_option('display.float_format', '{:,.0f}'.format)\n",
        "df_grid_gbr.sort_values('neg_mean_squared_error', ascending=False)"
      ],
      "execution_count": 25,
      "outputs": [
        {
          "output_type": "stream",
          "text": [
            "Best: -21435018.112703 using {'n_estimators': 4000}\n"
          ],
          "name": "stdout"
        },
        {
          "output_type": "execute_result",
          "data": {
            "text/html": [
              "<div>\n",
              "<style scoped>\n",
              "    .dataframe tbody tr th:only-of-type {\n",
              "        vertical-align: middle;\n",
              "    }\n",
              "\n",
              "    .dataframe tbody tr th {\n",
              "        vertical-align: top;\n",
              "    }\n",
              "\n",
              "    .dataframe thead th {\n",
              "        text-align: right;\n",
              "    }\n",
              "</style>\n",
              "<table border=\"1\" class=\"dataframe\">\n",
              "  <thead>\n",
              "    <tr style=\"text-align: right;\">\n",
              "      <th></th>\n",
              "      <th>n_estimators</th>\n",
              "      <th>neg_mean_squared_error</th>\n",
              "      <th>std</th>\n",
              "    </tr>\n",
              "  </thead>\n",
              "  <tbody>\n",
              "    <tr>\n",
              "      <th>2</th>\n",
              "      <td>{'n_estimators': 4000}</td>\n",
              "      <td>-21,435,018</td>\n",
              "      <td>5,080,157</td>\n",
              "    </tr>\n",
              "    <tr>\n",
              "      <th>1</th>\n",
              "      <td>{'n_estimators': 3000}</td>\n",
              "      <td>-21,443,801</td>\n",
              "      <td>5,075,322</td>\n",
              "    </tr>\n",
              "    <tr>\n",
              "      <th>0</th>\n",
              "      <td>{'n_estimators': 2000}</td>\n",
              "      <td>-21,485,632</td>\n",
              "      <td>5,065,409</td>\n",
              "    </tr>\n",
              "  </tbody>\n",
              "</table>\n",
              "</div>"
            ],
            "text/plain": [
              "             n_estimators  neg_mean_squared_error       std\n",
              "2  {'n_estimators': 4000}             -21,435,018 5,080,157\n",
              "1  {'n_estimators': 3000}             -21,443,801 5,075,322\n",
              "0  {'n_estimators': 2000}             -21,485,632 5,065,409"
            ]
          },
          "metadata": {
            "tags": []
          },
          "execution_count": 25
        }
      ]
    },
    {
      "cell_type": "code",
      "metadata": {
        "id": "duViZsMvXDch",
        "colab_type": "code",
        "colab": {
          "base_uri": "https://localhost:8080/",
          "height": 34
        },
        "outputId": "fe38d096-34eb-4d7d-b887-d89f22765dd3"
      },
      "source": [
        "time_start = time.time()\n",
        "\n",
        "model = GradientBoostingRegressor(random_state=SEED,n_estimators=4_000)\n",
        "model.fit(Xtr, ytr)\n",
        "\n",
        "ypreds = model.predict(Xtx)\n",
        "\n",
        "r2 = sklearn.metrics.r2_score(ytx, ypreds)\n",
        "ar2 = adjustedR2(r2, Xtx.shape[0], Xtx.shape[1])\n",
        "ar2 = round(ar2,6)\n",
        "\n",
        "time_taken = time.time() - time_start\n",
        "m,s = divmod(time_taken,60)\n",
        "print(f'AR2: {ar2} , Time taken: {m} min {s:.0f} sec')"
      ],
      "execution_count": 32,
      "outputs": [
        {
          "output_type": "stream",
          "text": [
            "AR2: 0.997885 , Time taken: 3.0 min 46 sec\n"
          ],
          "name": "stdout"
        }
      ]
    },
    {
      "cell_type": "code",
      "metadata": {
        "id": "PehASlZRg5VW",
        "colab_type": "code",
        "colab": {
          "base_uri": "https://localhost:8080/",
          "height": 176
        },
        "outputId": "be3e5dad-faa0-42be-dc16-64bcef24f98f"
      },
      "source": [
        "model"
      ],
      "execution_count": 44,
      "outputs": [
        {
          "output_type": "execute_result",
          "data": {
            "text/plain": [
              "GradientBoostingRegressor(alpha=0.9, ccp_alpha=0.0, criterion='friedman_mse',\n",
              "                          init=None, learning_rate=0.1, loss='ls', max_depth=3,\n",
              "                          max_features=None, max_leaf_nodes=None,\n",
              "                          min_impurity_decrease=0.0, min_impurity_split=None,\n",
              "                          min_samples_leaf=1, min_samples_split=2,\n",
              "                          min_weight_fraction_leaf=0.0, n_estimators=100,\n",
              "                          n_iter_no_change=None, presort='deprecated',\n",
              "                          random_state=None, subsample=1.0, tol=0.0001,\n",
              "                          validation_fraction=0.1, verbose=0, warm_start=False)"
            ]
          },
          "metadata": {
            "tags": []
          },
          "execution_count": 44
        }
      ]
    },
    {
      "cell_type": "code",
      "metadata": {
        "id": "lMPA7PtYUG6-",
        "colab_type": "code",
        "colab": {}
      },
      "source": [
        "for n in [3]: # default max_depth = 3\n",
        "    time_start = time.time()\n",
        "    param = 'depth'\n",
        "    model = GradientBoostingRegressor(verbose=False,random_state=SEED,\n",
        "                              n_estimators=4000,\n",
        "                              max_depth=n,\n",
        "                              )\n",
        "    model.fit(Xtr, ytr)\n",
        "    ypreds = model.predict(Xtx)\n",
        "    r2 = sklearn.metrics.r2_score(ytx, ypreds)\n",
        "    ar2 = adjustedR2(r2, Xtx.shape[0], Xtx.shape[1])\n",
        "    ar2 = round(ar2,6)\n",
        "\n",
        "    time_taken = time.time() - time_start\n",
        "    m,s = divmod(time_taken,60)\n",
        "    print(f'{param}: {n}, AR2: {ar2} , Time taken: {m} min {s:.0f} sec')\n",
        "\n",
        "\"\"\"\n",
        "depth: 2, AR2: 0.996209 , Time taken: 2.0 min 32 sec\n",
        "depth: 3, AR2: 0.997885 , Time taken: 3.0 min 45 sec **best\n",
        "depth: 4, AR2: 0.997314 , Time taken: 4.0 min 57 sec\n",
        "depth: 5, AR2: 0.997327 , Time taken: 6.0 min 8 sec\n",
        "depth: 6, AR2: 0.996715 , Time taken: 7.0 min 20 sec\n",
        "\"\"\""
      ],
      "execution_count": 0,
      "outputs": []
    },
    {
      "cell_type": "markdown",
      "metadata": {
        "id": "4DIWFFB8nY54",
        "colab_type": "text"
      },
      "source": [
        "## Model Regularization\n",
        "alpha, learning_rate, ccp_alpha"
      ]
    },
    {
      "cell_type": "code",
      "metadata": {
        "id": "zfEnE4drn3Rp",
        "colab_type": "code",
        "colab": {
          "base_uri": "https://localhost:8080/",
          "height": 194
        },
        "outputId": "57af2784-cd64-4106-e8e4-f06c17777cbe"
      },
      "source": [
        "model"
      ],
      "execution_count": 49,
      "outputs": [
        {
          "output_type": "execute_result",
          "data": {
            "text/plain": [
              "GradientBoostingRegressor(alpha=0.9, ccp_alpha=0.0, criterion='friedman_mse',\n",
              "                          init=None, learning_rate=0.1, loss='ls', max_depth=7,\n",
              "                          max_features=None, max_leaf_nodes=None,\n",
              "                          min_impurity_decrease=0.0, min_impurity_split=None,\n",
              "                          min_samples_leaf=1, min_samples_split=2,\n",
              "                          min_weight_fraction_leaf=0.0, n_estimators=4000,\n",
              "                          n_iter_no_change=None, presort='deprecated',\n",
              "                          random_state=100, subsample=1.0, tol=0.0001,\n",
              "                          validation_fraction=0.1, verbose=False,\n",
              "                          warm_start=False)"
            ]
          },
          "metadata": {
            "tags": []
          },
          "execution_count": 49
        }
      ]
    },
    {
      "cell_type": "code",
      "metadata": {
        "id": "EsGnsOtpdqAa",
        "colab_type": "code",
        "colab": {
          "base_uri": "https://localhost:8080/",
          "height": 105
        },
        "outputId": "d2b28f17-1e73-4184-c185-66c714df3f91"
      },
      "source": [
        "for n in [0.9]: # default alpha = 0.9\n",
        "    time_start = time.time()\n",
        "    param = 'alpha'\n",
        "    model = GradientBoostingRegressor(verbose=1000,random_state=SEED,\n",
        "                              n_estimators=4000,\n",
        "                              max_depth=3,\n",
        "                              alpha=n,\n",
        "                              )\n",
        "    model.fit(Xtr, ytr)\n",
        "    ypreds = model.predict(Xtx)\n",
        "    r2 = sklearn.metrics.r2_score(ytx, ypreds)\n",
        "    ar2 = adjustedR2(r2, Xtx.shape[0], Xtx.shape[1])\n",
        "    ar2 = round(ar2,6)\n",
        "\n",
        "    time_taken = time.time() - time_start\n",
        "    m,s = divmod(time_taken,60)\n",
        "    print(f'{param}: {n}, AR2: {ar2} , Time taken: {m} min {s:.0f} sec')\n",
        "\n",
        "\"\"\"\n",
        "alpha: 0.7, AR2:  0.997885 , Time taken: 3.0 min 46 sec\n",
        "alpha: 0.8, AR2:  0.997885 , Time taken: 3.0 min 46 sec\n",
        "alpha: 0.9, AR2:  0.997885 , Time taken: 3.0 min 45 sec\n",
        "alpha: 0.99, AR2: 0.997885 , Time taken: 3.0 min 45 sec\n",
        "\"\"\";"
      ],
      "execution_count": 50,
      "outputs": [
        {
          "output_type": "stream",
          "text": [
            "alpha: 0.7, AR2: 0.997885 , Time taken: 3.0 min 46 sec\n",
            "alpha: 0.8, AR2: 0.997885 , Time taken: 3.0 min 46 sec\n",
            "alpha: 0.9, AR2: 0.997885 , Time taken: 3.0 min 45 sec\n",
            "alpha: 0.99, AR2: 0.997885 , Time taken: 3.0 min 45 sec\n"
          ],
          "name": "stdout"
        },
        {
          "output_type": "execute_result",
          "data": {
            "text/plain": [
              "'\\n\\n'"
            ]
          },
          "metadata": {
            "tags": []
          },
          "execution_count": 50
        }
      ]
    },
    {
      "cell_type": "code",
      "metadata": {
        "id": "v5s7ETqZoNfP",
        "colab_type": "code",
        "colab": {
          "base_uri": "https://localhost:8080/",
          "height": 123
        },
        "outputId": "c9ad9b7d-438f-4ff0-b8bc-8d51f423e9e7"
      },
      "source": [
        "for n in [0.1]: # default learning_rate = 0.1\n",
        "    time_start = time.time()\n",
        "    param = 'learning_rate'\n",
        "    model = GradientBoostingRegressor(verbose=False,random_state=SEED,\n",
        "                              n_estimators=4000,\n",
        "                              max_depth=3,\n",
        "                              alpha=0.9,\n",
        "                              learning_rate =n,\n",
        "                              )\n",
        "    model.fit(Xtr, ytr)\n",
        "    ypreds = model.predict(Xtx)\n",
        "    r2 = sklearn.metrics.r2_score(ytx, ypreds)\n",
        "    ar2 = adjustedR2(r2, Xtx.shape[0], Xtx.shape[1])\n",
        "    ar2 = round(ar2,6)\n",
        "\n",
        "    time_taken = time.time() - time_start\n",
        "    m,s = divmod(time_taken,60)\n",
        "    print(f'{param}: {n}, AR2: {ar2} , Time taken: {m} min {s:.0f} sec')\n",
        "\n",
        "\"\"\"\n",
        "learning_rate: 0.01, AR2: 0.997582 , Time taken: 3.0 min 45 sec\n",
        "learning_rate: 0.1,  AR2: 0.997885 , Time taken: 3.0 min 45 sec **best\n",
        "learning_rate: 0.11, AR2: 0.996815 , Time taken: 3.0 min 45 sec\n",
        "learning_rate: 0.15, AR2: 0.99731 , Time taken: 3.0 min 45 sec\n",
        "learning_rate: 0.2,  AR2: 0.997367 , Time taken: 3.0 min 45 sec\n",
        "learning_rate: 0.3,  AR2: 0.994931 , Time taken: 3.0 min 45 sec\n",
        "\"\"\";"
      ],
      "execution_count": 54,
      "outputs": [
        {
          "output_type": "stream",
          "text": [
            "learning_rate: 0.01, AR2: 0.997582 , Time taken: 3.0 min 45 sec\n",
            "learning_rate: 0.1, AR2: 0.997885 , Time taken: 3.0 min 45 sec\n",
            "learning_rate: 0.11, AR2: 0.996815 , Time taken: 3.0 min 45 sec\n",
            "learning_rate: 0.15, AR2: 0.99731 , Time taken: 3.0 min 45 sec\n",
            "learning_rate: 0.2, AR2: 0.997367 , Time taken: 3.0 min 45 sec\n",
            "learning_rate: 0.3, AR2: 0.994931 , Time taken: 3.0 min 45 sec\n"
          ],
          "name": "stdout"
        }
      ]
    },
    {
      "cell_type": "markdown",
      "metadata": {
        "id": "4K3VRrBHoNlb",
        "colab_type": "text"
      },
      "source": [
        "# Best Model"
      ]
    },
    {
      "cell_type": "code",
      "metadata": {
        "id": "93wt7SNuoNjj",
        "colab_type": "code",
        "colab": {
          "base_uri": "https://localhost:8080/",
          "height": 34
        },
        "outputId": "1bc809e2-0c90-4f3c-e4b6-a61f054556cc"
      },
      "source": [
        "time_start = time.time()\n",
        "\n",
        "model = GradientBoostingRegressor(verbose=False,random_state=SEED,\n",
        "                            n_estimators=4000,\n",
        "                            max_depth=3,\n",
        "                            alpha=0.1,\n",
        "                            learning_rate =0.1,\n",
        "                            )\n",
        "model.fit(Xtr, ytr)\n",
        "ypreds = model.predict(Xtx)\n",
        "r2 = sklearn.metrics.r2_score(ytx, ypreds)\n",
        "ar2 = adjustedR2(r2, Xtx.shape[0], Xtx.shape[1])\n",
        "ar2 = round(ar2,6)\n",
        "\n",
        "time_taken = time.time() - time_start\n",
        "m,s = divmod(time_taken,60)\n",
        "print(f'AR2: {ar2} , Time taken: {m} min {s:.0f} sec')"
      ],
      "execution_count": 55,
      "outputs": [
        {
          "output_type": "stream",
          "text": [
            "AR2: 0.997885 , Time taken: 3.0 min 45 sec\n"
          ],
          "name": "stdout"
        }
      ]
    },
    {
      "cell_type": "markdown",
      "metadata": {
        "id": "IRQXYNPyo-RI",
        "colab_type": "text"
      },
      "source": [
        "# Feature Importance"
      ]
    },
    {
      "cell_type": "code",
      "metadata": {
        "id": "9RSHL0p3zb9I",
        "colab_type": "code",
        "colab": {
          "base_uri": "https://localhost:8080/",
          "height": 34
        },
        "outputId": "cb19fd39-ff83-4fc5-9196-29a13824798c"
      },
      "source": [
        "df.shape, Xtrain.shape"
      ],
      "execution_count": 58,
      "outputs": [
        {
          "output_type": "execute_result",
          "data": {
            "text/plain": [
              "((6830, 47), (5464, 46))"
            ]
          },
          "metadata": {
            "tags": []
          },
          "execution_count": 58
        }
      ]
    },
    {
      "cell_type": "code",
      "metadata": {
        "id": "dDc_t5I6ndiA",
        "colab_type": "code",
        "colab": {
          "base_uri": "https://localhost:8080/",
          "height": 263
        },
        "outputId": "272f9e94-63f6-498a-947b-cc54752f4181"
      },
      "source": [
        "show_method_attributes(model)"
      ],
      "execution_count": 56,
      "outputs": [
        {
          "output_type": "stream",
          "text": [
            "Object Type: <class 'sklearn.ensemble._gb.GradientBoostingRegressor'>\n",
            "\n"
          ],
          "name": "stdout"
        },
        {
          "output_type": "execute_result",
          "data": {
            "text/html": [
              "<div>\n",
              "<style scoped>\n",
              "    .dataframe tbody tr th:only-of-type {\n",
              "        vertical-align: middle;\n",
              "    }\n",
              "\n",
              "    .dataframe tbody tr th {\n",
              "        vertical-align: top;\n",
              "    }\n",
              "\n",
              "    .dataframe thead th {\n",
              "        text-align: right;\n",
              "    }\n",
              "</style>\n",
              "<table border=\"1\" class=\"dataframe\">\n",
              "  <thead>\n",
              "    <tr style=\"text-align: right;\">\n",
              "      <th></th>\n",
              "      <th>0</th>\n",
              "      <th>1</th>\n",
              "      <th>2</th>\n",
              "      <th>3</th>\n",
              "      <th>4</th>\n",
              "      <th>5</th>\n",
              "      <th>6</th>\n",
              "    </tr>\n",
              "  </thead>\n",
              "  <tbody>\n",
              "    <tr>\n",
              "      <th>0</th>\n",
              "      <td>alpha</td>\n",
              "      <td>fit</td>\n",
              "      <td>loss_</td>\n",
              "      <td>min_impurity_split</td>\n",
              "      <td>n_estimators_</td>\n",
              "      <td>random_state</td>\n",
              "      <td>tol</td>\n",
              "    </tr>\n",
              "    <tr>\n",
              "      <th>1</th>\n",
              "      <td>apply</td>\n",
              "      <td>get_params</td>\n",
              "      <td>max_depth</td>\n",
              "      <td>min_samples_leaf</td>\n",
              "      <td>n_features_</td>\n",
              "      <td>score</td>\n",
              "      <td>train_score_</td>\n",
              "    </tr>\n",
              "    <tr>\n",
              "      <th>2</th>\n",
              "      <td>ccp_alpha</td>\n",
              "      <td>init</td>\n",
              "      <td>max_features</td>\n",
              "      <td>min_samples_split</td>\n",
              "      <td>n_iter_no_change</td>\n",
              "      <td>set_params</td>\n",
              "      <td>validation_fraction</td>\n",
              "    </tr>\n",
              "    <tr>\n",
              "      <th>3</th>\n",
              "      <td>criterion</td>\n",
              "      <td>init_</td>\n",
              "      <td>max_features_</td>\n",
              "      <td>min_weight_fraction_leaf</td>\n",
              "      <td>predict</td>\n",
              "      <td>staged_predict</td>\n",
              "      <td>verbose</td>\n",
              "    </tr>\n",
              "    <tr>\n",
              "      <th>4</th>\n",
              "      <td>estimators_</td>\n",
              "      <td>learning_rate</td>\n",
              "      <td>max_leaf_nodes</td>\n",
              "      <td>n_classes_</td>\n",
              "      <td>presort</td>\n",
              "      <td>subsample</td>\n",
              "      <td>warm_start</td>\n",
              "    </tr>\n",
              "    <tr>\n",
              "      <th>5</th>\n",
              "      <td>feature_importances_</td>\n",
              "      <td>loss</td>\n",
              "      <td>min_impurity_decrease</td>\n",
              "      <td>n_estimators</td>\n",
              "      <td></td>\n",
              "      <td></td>\n",
              "      <td></td>\n",
              "    </tr>\n",
              "  </tbody>\n",
              "</table>\n",
              "</div>"
            ],
            "text/plain": [
              "                      0              1                      2  \\\n",
              "0                 alpha            fit                  loss_   \n",
              "1                 apply     get_params              max_depth   \n",
              "2             ccp_alpha           init           max_features   \n",
              "3             criterion          init_          max_features_   \n",
              "4           estimators_  learning_rate         max_leaf_nodes   \n",
              "5  feature_importances_           loss  min_impurity_decrease   \n",
              "\n",
              "                          3                 4               5  \\\n",
              "0        min_impurity_split     n_estimators_    random_state   \n",
              "1          min_samples_leaf       n_features_           score   \n",
              "2         min_samples_split  n_iter_no_change      set_params   \n",
              "3  min_weight_fraction_leaf           predict  staged_predict   \n",
              "4                n_classes_           presort       subsample   \n",
              "5              n_estimators                                     \n",
              "\n",
              "                     6  \n",
              "0                  tol  \n",
              "1         train_score_  \n",
              "2  validation_fraction  \n",
              "3              verbose  \n",
              "4           warm_start  \n",
              "5                       "
            ]
          },
          "metadata": {
            "tags": []
          },
          "execution_count": 56
        }
      ]
    },
    {
      "cell_type": "code",
      "metadata": {
        "id": "x_AffmqzzHeA",
        "colab_type": "code",
        "colab": {
          "base_uri": "https://localhost:8080/",
          "height": 1000
        },
        "outputId": "2761dcbb-ee87-48f4-cf99-1ab3cede19d4"
      },
      "source": [
        "df_fimp = pd.DataFrame({'Feature': df.columns.drop(target) })\n",
        "df_fimp['Importance'] = model.feature_importances_\n",
        "\n",
        "df_fimp.sort_values('Importance',ascending=False)"
      ],
      "execution_count": 65,
      "outputs": [
        {
          "output_type": "execute_result",
          "data": {
            "text/html": [
              "<div>\n",
              "<style scoped>\n",
              "    .dataframe tbody tr th:only-of-type {\n",
              "        vertical-align: middle;\n",
              "    }\n",
              "\n",
              "    .dataframe tbody tr th {\n",
              "        vertical-align: top;\n",
              "    }\n",
              "\n",
              "    .dataframe thead th {\n",
              "        text-align: right;\n",
              "    }\n",
              "</style>\n",
              "<table border=\"1\" class=\"dataframe\">\n",
              "  <thead>\n",
              "    <tr style=\"text-align: right;\">\n",
              "      <th></th>\n",
              "      <th>Feature</th>\n",
              "      <th>Importance</th>\n",
              "    </tr>\n",
              "  </thead>\n",
              "  <tbody>\n",
              "    <tr>\n",
              "      <th>28</th>\n",
              "      <td>base_SdssShape_yySigma</td>\n",
              "      <td>0.56726</td>\n",
              "    </tr>\n",
              "    <tr>\n",
              "      <th>29</th>\n",
              "      <td>base_SdssShape_xySigma</td>\n",
              "      <td>0.19374</td>\n",
              "    </tr>\n",
              "    <tr>\n",
              "      <th>27</th>\n",
              "      <td>base_SdssShape_xxSigma</td>\n",
              "      <td>0.08237</td>\n",
              "    </tr>\n",
              "    <tr>\n",
              "      <th>25</th>\n",
              "      <td>base_SdssShape_yy</td>\n",
              "      <td>0.03861</td>\n",
              "    </tr>\n",
              "    <tr>\n",
              "      <th>43</th>\n",
              "      <td>ext_shapeHSM_HsmSourceMoments_yy</td>\n",
              "      <td>0.03063</td>\n",
              "    </tr>\n",
              "    <tr>\n",
              "      <th>23</th>\n",
              "      <td>base_SdssCentroid_ySigma</td>\n",
              "      <td>0.02962</td>\n",
              "    </tr>\n",
              "    <tr>\n",
              "      <th>42</th>\n",
              "      <td>ext_shapeHSM_HsmSourceMoments_xx</td>\n",
              "      <td>0.02359</td>\n",
              "    </tr>\n",
              "    <tr>\n",
              "      <th>24</th>\n",
              "      <td>base_SdssShape_xx</td>\n",
              "      <td>0.01347</td>\n",
              "    </tr>\n",
              "    <tr>\n",
              "      <th>22</th>\n",
              "      <td>base_SdssCentroid_xSigma</td>\n",
              "      <td>0.01202</td>\n",
              "    </tr>\n",
              "    <tr>\n",
              "      <th>45</th>\n",
              "      <td>base_ClassificationExtendedness_value</td>\n",
              "      <td>0.00487</td>\n",
              "    </tr>\n",
              "    <tr>\n",
              "      <th>26</th>\n",
              "      <td>base_SdssShape_xy</td>\n",
              "      <td>0.00152</td>\n",
              "    </tr>\n",
              "    <tr>\n",
              "      <th>0</th>\n",
              "      <td># calib_detected</td>\n",
              "      <td>0.00088</td>\n",
              "    </tr>\n",
              "    <tr>\n",
              "      <th>44</th>\n",
              "      <td>ext_shapeHSM_HsmSourceMoments_xy</td>\n",
              "      <td>0.00067</td>\n",
              "    </tr>\n",
              "    <tr>\n",
              "      <th>15</th>\n",
              "      <td>deblend_nChild</td>\n",
              "      <td>0.00029</td>\n",
              "    </tr>\n",
              "    <tr>\n",
              "      <th>38</th>\n",
              "      <td>ext_shapeHSM_HsmPsfMoments_yy</td>\n",
              "      <td>0.00009</td>\n",
              "    </tr>\n",
              "    <tr>\n",
              "      <th>33</th>\n",
              "      <td>base_SdssShape_psf_yy</td>\n",
              "      <td>0.00007</td>\n",
              "    </tr>\n",
              "    <tr>\n",
              "      <th>37</th>\n",
              "      <td>ext_shapeHSM_HsmPsfMoments_xx</td>\n",
              "      <td>0.00006</td>\n",
              "    </tr>\n",
              "    <tr>\n",
              "      <th>32</th>\n",
              "      <td>base_SdssShape_psf_xx</td>\n",
              "      <td>0.00003</td>\n",
              "    </tr>\n",
              "    <tr>\n",
              "      <th>39</th>\n",
              "      <td>ext_shapeHSM_HsmPsfMoments_xy</td>\n",
              "      <td>0.00003</td>\n",
              "    </tr>\n",
              "    <tr>\n",
              "      <th>34</th>\n",
              "      <td>base_SdssShape_psf_xy</td>\n",
              "      <td>0.00003</td>\n",
              "    </tr>\n",
              "    <tr>\n",
              "      <th>36</th>\n",
              "      <td>ext_shapeHSM_HsmPsfMoments_y</td>\n",
              "      <td>0.00003</td>\n",
              "    </tr>\n",
              "    <tr>\n",
              "      <th>12</th>\n",
              "      <td>coord_ra</td>\n",
              "      <td>0.00002</td>\n",
              "    </tr>\n",
              "    <tr>\n",
              "      <th>35</th>\n",
              "      <td>ext_shapeHSM_HsmPsfMoments_x</td>\n",
              "      <td>0.00002</td>\n",
              "    </tr>\n",
              "    <tr>\n",
              "      <th>16</th>\n",
              "      <td>base_GaussianCentroid_x</td>\n",
              "      <td>0.00002</td>\n",
              "    </tr>\n",
              "    <tr>\n",
              "      <th>30</th>\n",
              "      <td>base_SdssShape_x</td>\n",
              "      <td>0.00001</td>\n",
              "    </tr>\n",
              "    <tr>\n",
              "      <th>10</th>\n",
              "      <td>base_Variance_flag</td>\n",
              "      <td>0.00001</td>\n",
              "    </tr>\n",
              "    <tr>\n",
              "      <th>40</th>\n",
              "      <td>ext_shapeHSM_HsmSourceMoments_x</td>\n",
              "      <td>0.00001</td>\n",
              "    </tr>\n",
              "    <tr>\n",
              "      <th>31</th>\n",
              "      <td>base_SdssShape_y</td>\n",
              "      <td>0.00001</td>\n",
              "    </tr>\n",
              "    <tr>\n",
              "      <th>19</th>\n",
              "      <td>base_NaiveCentroid_y</td>\n",
              "      <td>0.00001</td>\n",
              "    </tr>\n",
              "    <tr>\n",
              "      <th>14</th>\n",
              "      <td>parent</td>\n",
              "      <td>0.00001</td>\n",
              "    </tr>\n",
              "    <tr>\n",
              "      <th>20</th>\n",
              "      <td>base_SdssCentroid_x</td>\n",
              "      <td>0.00001</td>\n",
              "    </tr>\n",
              "    <tr>\n",
              "      <th>18</th>\n",
              "      <td>base_NaiveCentroid_x</td>\n",
              "      <td>0.00000</td>\n",
              "    </tr>\n",
              "    <tr>\n",
              "      <th>21</th>\n",
              "      <td>base_SdssCentroid_y</td>\n",
              "      <td>0.00000</td>\n",
              "    </tr>\n",
              "    <tr>\n",
              "      <th>17</th>\n",
              "      <td>base_GaussianCentroid_y</td>\n",
              "      <td>0.00000</td>\n",
              "    </tr>\n",
              "    <tr>\n",
              "      <th>41</th>\n",
              "      <td>ext_shapeHSM_HsmSourceMoments_y</td>\n",
              "      <td>0.00000</td>\n",
              "    </tr>\n",
              "    <tr>\n",
              "      <th>3</th>\n",
              "      <td>deblend_rampedTemplate</td>\n",
              "      <td>0.00000</td>\n",
              "    </tr>\n",
              "    <tr>\n",
              "      <th>11</th>\n",
              "      <td>base_Variance_flag_emptyFootprint</td>\n",
              "      <td>0.00000</td>\n",
              "    </tr>\n",
              "    <tr>\n",
              "      <th>13</th>\n",
              "      <td>coord_dec</td>\n",
              "      <td>0.00000</td>\n",
              "    </tr>\n",
              "    <tr>\n",
              "      <th>8</th>\n",
              "      <td>ext_shapeHSM_HsmShapeRegauss_flag_galsim</td>\n",
              "      <td>0.00000</td>\n",
              "    </tr>\n",
              "    <tr>\n",
              "      <th>6</th>\n",
              "      <td>ext_shapeHSM_HsmShapeRegauss_flag</td>\n",
              "      <td>0.00000</td>\n",
              "    </tr>\n",
              "    <tr>\n",
              "      <th>9</th>\n",
              "      <td>base_PixelFlags_flag_edge</td>\n",
              "      <td>0.00000</td>\n",
              "    </tr>\n",
              "    <tr>\n",
              "      <th>7</th>\n",
              "      <td>ext_shapeHSM_HsmShapeRegauss_flag_parent_source</td>\n",
              "      <td>0.00000</td>\n",
              "    </tr>\n",
              "    <tr>\n",
              "      <th>2</th>\n",
              "      <td>deblend_tooManyPeaks</td>\n",
              "      <td>0.00000</td>\n",
              "    </tr>\n",
              "    <tr>\n",
              "      <th>1</th>\n",
              "      <td>deblend_deblendedAsPsf</td>\n",
              "      <td>0.00000</td>\n",
              "    </tr>\n",
              "    <tr>\n",
              "      <th>5</th>\n",
              "      <td>base_SdssShape_flag_shift</td>\n",
              "      <td>0.00000</td>\n",
              "    </tr>\n",
              "    <tr>\n",
              "      <th>4</th>\n",
              "      <td>base_SdssShape_flag</td>\n",
              "      <td>0.00000</td>\n",
              "    </tr>\n",
              "  </tbody>\n",
              "</table>\n",
              "</div>"
            ],
            "text/plain": [
              "                                            Feature  Importance\n",
              "28                           base_SdssShape_yySigma     0.56726\n",
              "29                           base_SdssShape_xySigma     0.19374\n",
              "27                           base_SdssShape_xxSigma     0.08237\n",
              "25                                base_SdssShape_yy     0.03861\n",
              "43                 ext_shapeHSM_HsmSourceMoments_yy     0.03063\n",
              "23                         base_SdssCentroid_ySigma     0.02962\n",
              "42                 ext_shapeHSM_HsmSourceMoments_xx     0.02359\n",
              "24                                base_SdssShape_xx     0.01347\n",
              "22                         base_SdssCentroid_xSigma     0.01202\n",
              "45            base_ClassificationExtendedness_value     0.00487\n",
              "26                                base_SdssShape_xy     0.00152\n",
              "0                                  # calib_detected     0.00088\n",
              "44                 ext_shapeHSM_HsmSourceMoments_xy     0.00067\n",
              "15                                   deblend_nChild     0.00029\n",
              "38                    ext_shapeHSM_HsmPsfMoments_yy     0.00009\n",
              "33                            base_SdssShape_psf_yy     0.00007\n",
              "37                    ext_shapeHSM_HsmPsfMoments_xx     0.00006\n",
              "32                            base_SdssShape_psf_xx     0.00003\n",
              "39                    ext_shapeHSM_HsmPsfMoments_xy     0.00003\n",
              "34                            base_SdssShape_psf_xy     0.00003\n",
              "36                     ext_shapeHSM_HsmPsfMoments_y     0.00003\n",
              "12                                         coord_ra     0.00002\n",
              "35                     ext_shapeHSM_HsmPsfMoments_x     0.00002\n",
              "16                          base_GaussianCentroid_x     0.00002\n",
              "30                                 base_SdssShape_x     0.00001\n",
              "10                               base_Variance_flag     0.00001\n",
              "40                  ext_shapeHSM_HsmSourceMoments_x     0.00001\n",
              "31                                 base_SdssShape_y     0.00001\n",
              "19                             base_NaiveCentroid_y     0.00001\n",
              "14                                           parent     0.00001\n",
              "20                              base_SdssCentroid_x     0.00001\n",
              "18                             base_NaiveCentroid_x     0.00000\n",
              "21                              base_SdssCentroid_y     0.00000\n",
              "17                          base_GaussianCentroid_y     0.00000\n",
              "41                  ext_shapeHSM_HsmSourceMoments_y     0.00000\n",
              "3                            deblend_rampedTemplate     0.00000\n",
              "11                base_Variance_flag_emptyFootprint     0.00000\n",
              "13                                        coord_dec     0.00000\n",
              "8          ext_shapeHSM_HsmShapeRegauss_flag_galsim     0.00000\n",
              "6                 ext_shapeHSM_HsmShapeRegauss_flag     0.00000\n",
              "9                         base_PixelFlags_flag_edge     0.00000\n",
              "7   ext_shapeHSM_HsmShapeRegauss_flag_parent_source     0.00000\n",
              "2                              deblend_tooManyPeaks     0.00000\n",
              "1                            deblend_deblendedAsPsf     0.00000\n",
              "5                         base_SdssShape_flag_shift     0.00000\n",
              "4                               base_SdssShape_flag     0.00000"
            ]
          },
          "metadata": {
            "tags": []
          },
          "execution_count": 65
        }
      ]
    },
    {
      "cell_type": "code",
      "metadata": {
        "id": "PN0S9TnTpBDw",
        "colab_type": "code",
        "colab": {
          "base_uri": "https://localhost:8080/",
          "height": 443
        },
        "outputId": "0de306e6-4570-4080-e449-bfece09c04d8"
      },
      "source": [
        "cols_low_imp = df_fimp.query(\"Importance < 0.00002\")['Feature'].to_list()\n",
        "cols_low_imp"
      ],
      "execution_count": 68,
      "outputs": [
        {
          "output_type": "execute_result",
          "data": {
            "text/plain": [
              "['deblend_deblendedAsPsf',\n",
              " 'deblend_tooManyPeaks',\n",
              " 'deblend_rampedTemplate',\n",
              " 'base_SdssShape_flag',\n",
              " 'base_SdssShape_flag_shift',\n",
              " 'ext_shapeHSM_HsmShapeRegauss_flag',\n",
              " 'ext_shapeHSM_HsmShapeRegauss_flag_parent_source',\n",
              " 'ext_shapeHSM_HsmShapeRegauss_flag_galsim',\n",
              " 'base_PixelFlags_flag_edge',\n",
              " 'base_Variance_flag',\n",
              " 'base_Variance_flag_emptyFootprint',\n",
              " 'coord_dec',\n",
              " 'parent',\n",
              " 'base_GaussianCentroid_x',\n",
              " 'base_GaussianCentroid_y',\n",
              " 'base_NaiveCentroid_x',\n",
              " 'base_NaiveCentroid_y',\n",
              " 'base_SdssCentroid_x',\n",
              " 'base_SdssCentroid_y',\n",
              " 'base_SdssShape_x',\n",
              " 'base_SdssShape_y',\n",
              " 'ext_shapeHSM_HsmPsfMoments_x',\n",
              " 'ext_shapeHSM_HsmSourceMoments_x',\n",
              " 'ext_shapeHSM_HsmSourceMoments_y']"
            ]
          },
          "metadata": {
            "tags": []
          },
          "execution_count": 68
        }
      ]
    },
    {
      "cell_type": "code",
      "metadata": {
        "id": "reWg5fu507mW",
        "colab_type": "code",
        "colab": {}
      },
      "source": [
        "df2 = df.drop(cols_low_imp,axis=1)\n",
        "\n",
        "Xtr2, Xtx2, ytr2, ytx2 = train_test_split(df2.drop(target,axis=1),\n",
        "                                      df2[target],\n",
        "                                      test_size=0.2,\n",
        "                                      random_state=SEED)"
      ],
      "execution_count": 0,
      "outputs": []
    },
    {
      "cell_type": "code",
      "metadata": {
        "id": "kOd8yja01FfE",
        "colab_type": "code",
        "colab": {
          "base_uri": "https://localhost:8080/",
          "height": 34
        },
        "outputId": "39427c4b-3e4e-4212-f0a3-212e00d94035"
      },
      "source": [
        "time_start = time.time()\n",
        "Xtr = Xtr2\n",
        "Xtx = Xtx2\n",
        "ytr = ytr2\n",
        "ytx = ytx2\n",
        "\n",
        "\n",
        "model = GradientBoostingRegressor(verbose=False,random_state=SEED,\n",
        "                            n_estimators=4000,\n",
        "                            max_depth=3,\n",
        "                            alpha=0.1,\n",
        "                            learning_rate =0.1,\n",
        "                            )\n",
        "model.fit(Xtr, ytr)\n",
        "ypreds = model.predict(Xtx)\n",
        "r2 = sklearn.metrics.r2_score(ytx, ypreds)\n",
        "ar2 = adjustedR2(r2, Xtx.shape[0], Xtx.shape[1])\n",
        "ar2 = round(ar2,6)\n",
        "\n",
        "time_taken = time.time() - time_start\n",
        "m,s = divmod(time_taken,60)\n",
        "print(f'AR2: {ar2} , Time taken: {m} min {s:.0f} sec')"
      ],
      "execution_count": 71,
      "outputs": [
        {
          "output_type": "stream",
          "text": [
            "AR2: 0.997935 , Time taken: 2.0 min 15 sec\n"
          ],
          "name": "stdout"
        }
      ]
    },
    {
      "cell_type": "code",
      "metadata": {
        "id": "wGjdm-QO1lku",
        "colab_type": "code",
        "colab": {
          "base_uri": "https://localhost:8080/",
          "height": 426
        },
        "outputId": "9246b077-4e3d-4ea4-9fbc-7064b3b15e3f"
      },
      "source": [
        "feature_names = df.columns.drop(cols_low_imp + [target]).to_list()\n",
        "df_fimp = pd.DataFrame({'Feature': feature_names })\n",
        "df_fimp['Importance'] = model.feature_importances_\n",
        "\n",
        "df_fimp.sort_values('Importance',ascending=False).style.background_gradient(subset=['Importance'])"
      ],
      "execution_count": 82,
      "outputs": [
        {
          "output_type": "execute_result",
          "data": {
            "text/html": [
              "<style  type=\"text/css\" >\n",
              "    #T_115653f2_1f92_11ea_8311_0242ac1c0002row0_col1 {\n",
              "            background-color:  #023858;\n",
              "            color:  #f1f1f1;\n",
              "        }    #T_115653f2_1f92_11ea_8311_0242ac1c0002row1_col1 {\n",
              "            background-color:  #b1c2de;\n",
              "            color:  #000000;\n",
              "        }    #T_115653f2_1f92_11ea_8311_0242ac1c0002row2_col1 {\n",
              "            background-color:  #e7e3f0;\n",
              "            color:  #000000;\n",
              "        }    #T_115653f2_1f92_11ea_8311_0242ac1c0002row3_col1 {\n",
              "            background-color:  #f6eff7;\n",
              "            color:  #000000;\n",
              "        }    #T_115653f2_1f92_11ea_8311_0242ac1c0002row4_col1 {\n",
              "            background-color:  #f7f0f7;\n",
              "            color:  #000000;\n",
              "        }    #T_115653f2_1f92_11ea_8311_0242ac1c0002row5_col1 {\n",
              "            background-color:  #f7f0f7;\n",
              "            color:  #000000;\n",
              "        }    #T_115653f2_1f92_11ea_8311_0242ac1c0002row6_col1 {\n",
              "            background-color:  #f9f2f8;\n",
              "            color:  #000000;\n",
              "        }    #T_115653f2_1f92_11ea_8311_0242ac1c0002row7_col1 {\n",
              "            background-color:  #faf3f9;\n",
              "            color:  #000000;\n",
              "        }    #T_115653f2_1f92_11ea_8311_0242ac1c0002row8_col1 {\n",
              "            background-color:  #fcf4fa;\n",
              "            color:  #000000;\n",
              "        }    #T_115653f2_1f92_11ea_8311_0242ac1c0002row9_col1 {\n",
              "            background-color:  #fef6fa;\n",
              "            color:  #000000;\n",
              "        }    #T_115653f2_1f92_11ea_8311_0242ac1c0002row10_col1 {\n",
              "            background-color:  #fff7fb;\n",
              "            color:  #000000;\n",
              "        }    #T_115653f2_1f92_11ea_8311_0242ac1c0002row11_col1 {\n",
              "            background-color:  #fff7fb;\n",
              "            color:  #000000;\n",
              "        }    #T_115653f2_1f92_11ea_8311_0242ac1c0002row12_col1 {\n",
              "            background-color:  #fff7fb;\n",
              "            color:  #000000;\n",
              "        }    #T_115653f2_1f92_11ea_8311_0242ac1c0002row13_col1 {\n",
              "            background-color:  #fff7fb;\n",
              "            color:  #000000;\n",
              "        }    #T_115653f2_1f92_11ea_8311_0242ac1c0002row14_col1 {\n",
              "            background-color:  #fff7fb;\n",
              "            color:  #000000;\n",
              "        }    #T_115653f2_1f92_11ea_8311_0242ac1c0002row15_col1 {\n",
              "            background-color:  #fff7fb;\n",
              "            color:  #000000;\n",
              "        }    #T_115653f2_1f92_11ea_8311_0242ac1c0002row16_col1 {\n",
              "            background-color:  #fff7fb;\n",
              "            color:  #000000;\n",
              "        }    #T_115653f2_1f92_11ea_8311_0242ac1c0002row17_col1 {\n",
              "            background-color:  #fff7fb;\n",
              "            color:  #000000;\n",
              "        }    #T_115653f2_1f92_11ea_8311_0242ac1c0002row18_col1 {\n",
              "            background-color:  #fff7fb;\n",
              "            color:  #000000;\n",
              "        }    #T_115653f2_1f92_11ea_8311_0242ac1c0002row19_col1 {\n",
              "            background-color:  #fff7fb;\n",
              "            color:  #000000;\n",
              "        }    #T_115653f2_1f92_11ea_8311_0242ac1c0002row20_col1 {\n",
              "            background-color:  #fff7fb;\n",
              "            color:  #000000;\n",
              "        }    #T_115653f2_1f92_11ea_8311_0242ac1c0002row21_col1 {\n",
              "            background-color:  #fff7fb;\n",
              "            color:  #000000;\n",
              "        }</style><table id=\"T_115653f2_1f92_11ea_8311_0242ac1c0002\" ><thead>    <tr>        <th class=\"blank level0\" ></th>        <th class=\"col_heading level0 col0\" >Feature</th>        <th class=\"col_heading level0 col1\" >Importance</th>    </tr></thead><tbody>\n",
              "                <tr>\n",
              "                        <th id=\"T_115653f2_1f92_11ea_8311_0242ac1c0002level0_row0\" class=\"row_heading level0 row0\" >9</th>\n",
              "                        <td id=\"T_115653f2_1f92_11ea_8311_0242ac1c0002row0_col0\" class=\"data row0 col0\" >base_SdssShape_yySigma</td>\n",
              "                        <td id=\"T_115653f2_1f92_11ea_8311_0242ac1c0002row0_col1\" class=\"data row0 col1\" >0.567571</td>\n",
              "            </tr>\n",
              "            <tr>\n",
              "                        <th id=\"T_115653f2_1f92_11ea_8311_0242ac1c0002level0_row1\" class=\"row_heading level0 row1\" >10</th>\n",
              "                        <td id=\"T_115653f2_1f92_11ea_8311_0242ac1c0002row1_col0\" class=\"data row1 col0\" >base_SdssShape_xySigma</td>\n",
              "                        <td id=\"T_115653f2_1f92_11ea_8311_0242ac1c0002row1_col1\" class=\"data row1 col1\" >0.194248</td>\n",
              "            </tr>\n",
              "            <tr>\n",
              "                        <th id=\"T_115653f2_1f92_11ea_8311_0242ac1c0002level0_row2\" class=\"row_heading level0 row2\" >8</th>\n",
              "                        <td id=\"T_115653f2_1f92_11ea_8311_0242ac1c0002row2_col0\" class=\"data row2 col0\" >base_SdssShape_xxSigma</td>\n",
              "                        <td id=\"T_115653f2_1f92_11ea_8311_0242ac1c0002row2_col1\" class=\"data row2 col1\" >0.0823462</td>\n",
              "            </tr>\n",
              "            <tr>\n",
              "                        <th id=\"T_115653f2_1f92_11ea_8311_0242ac1c0002level0_row3\" class=\"row_heading level0 row3\" >6</th>\n",
              "                        <td id=\"T_115653f2_1f92_11ea_8311_0242ac1c0002row3_col0\" class=\"data row3 col0\" >base_SdssShape_yy</td>\n",
              "                        <td id=\"T_115653f2_1f92_11ea_8311_0242ac1c0002row3_col1\" class=\"data row3 col1\" >0.0349603</td>\n",
              "            </tr>\n",
              "            <tr>\n",
              "                        <th id=\"T_115653f2_1f92_11ea_8311_0242ac1c0002level0_row4\" class=\"row_heading level0 row4\" >19</th>\n",
              "                        <td id=\"T_115653f2_1f92_11ea_8311_0242ac1c0002row4_col0\" class=\"data row4 col0\" >ext_shapeHSM_HsmSourceMoments_yy</td>\n",
              "                        <td id=\"T_115653f2_1f92_11ea_8311_0242ac1c0002row4_col1\" class=\"data row4 col1\" >0.0306536</td>\n",
              "            </tr>\n",
              "            <tr>\n",
              "                        <th id=\"T_115653f2_1f92_11ea_8311_0242ac1c0002level0_row5\" class=\"row_heading level0 row5\" >4</th>\n",
              "                        <td id=\"T_115653f2_1f92_11ea_8311_0242ac1c0002row5_col0\" class=\"data row5 col0\" >base_SdssCentroid_ySigma</td>\n",
              "                        <td id=\"T_115653f2_1f92_11ea_8311_0242ac1c0002row5_col1\" class=\"data row5 col1\" >0.029289</td>\n",
              "            </tr>\n",
              "            <tr>\n",
              "                        <th id=\"T_115653f2_1f92_11ea_8311_0242ac1c0002level0_row6\" class=\"row_heading level0 row6\" >5</th>\n",
              "                        <td id=\"T_115653f2_1f92_11ea_8311_0242ac1c0002row6_col0\" class=\"data row6 col0\" >base_SdssShape_xx</td>\n",
              "                        <td id=\"T_115653f2_1f92_11ea_8311_0242ac1c0002row6_col1\" class=\"data row6 col1\" >0.0233338</td>\n",
              "            </tr>\n",
              "            <tr>\n",
              "                        <th id=\"T_115653f2_1f92_11ea_8311_0242ac1c0002level0_row7\" class=\"row_heading level0 row7\" >18</th>\n",
              "                        <td id=\"T_115653f2_1f92_11ea_8311_0242ac1c0002row7_col0\" class=\"data row7 col0\" >ext_shapeHSM_HsmSourceMoments_xx</td>\n",
              "                        <td id=\"T_115653f2_1f92_11ea_8311_0242ac1c0002row7_col1\" class=\"data row7 col1\" >0.018103</td>\n",
              "            </tr>\n",
              "            <tr>\n",
              "                        <th id=\"T_115653f2_1f92_11ea_8311_0242ac1c0002level0_row8\" class=\"row_heading level0 row8\" >3</th>\n",
              "                        <td id=\"T_115653f2_1f92_11ea_8311_0242ac1c0002row8_col0\" class=\"data row8 col0\" >base_SdssCentroid_xSigma</td>\n",
              "                        <td id=\"T_115653f2_1f92_11ea_8311_0242ac1c0002row8_col1\" class=\"data row8 col1\" >0.012025</td>\n",
              "            </tr>\n",
              "            <tr>\n",
              "                        <th id=\"T_115653f2_1f92_11ea_8311_0242ac1c0002level0_row9\" class=\"row_heading level0 row9\" >21</th>\n",
              "                        <td id=\"T_115653f2_1f92_11ea_8311_0242ac1c0002row9_col0\" class=\"data row9 col0\" >base_ClassificationExtendedness_value</td>\n",
              "                        <td id=\"T_115653f2_1f92_11ea_8311_0242ac1c0002row9_col1\" class=\"data row9 col1\" >0.00487649</td>\n",
              "            </tr>\n",
              "            <tr>\n",
              "                        <th id=\"T_115653f2_1f92_11ea_8311_0242ac1c0002level0_row10\" class=\"row_heading level0 row10\" >0</th>\n",
              "                        <td id=\"T_115653f2_1f92_11ea_8311_0242ac1c0002row10_col0\" class=\"data row10 col0\" ># calib_detected</td>\n",
              "                        <td id=\"T_115653f2_1f92_11ea_8311_0242ac1c0002row10_col1\" class=\"data row10 col1\" >0.000876744</td>\n",
              "            </tr>\n",
              "            <tr>\n",
              "                        <th id=\"T_115653f2_1f92_11ea_8311_0242ac1c0002level0_row11\" class=\"row_heading level0 row11\" >7</th>\n",
              "                        <td id=\"T_115653f2_1f92_11ea_8311_0242ac1c0002row11_col0\" class=\"data row11 col0\" >base_SdssShape_xy</td>\n",
              "                        <td id=\"T_115653f2_1f92_11ea_8311_0242ac1c0002row11_col1\" class=\"data row11 col1\" >0.000851751</td>\n",
              "            </tr>\n",
              "            <tr>\n",
              "                        <th id=\"T_115653f2_1f92_11ea_8311_0242ac1c0002level0_row12\" class=\"row_heading level0 row12\" >2</th>\n",
              "                        <td id=\"T_115653f2_1f92_11ea_8311_0242ac1c0002row12_col0\" class=\"data row12 col0\" >deblend_nChild</td>\n",
              "                        <td id=\"T_115653f2_1f92_11ea_8311_0242ac1c0002row12_col1\" class=\"data row12 col1\" >0.000288984</td>\n",
              "            </tr>\n",
              "            <tr>\n",
              "                        <th id=\"T_115653f2_1f92_11ea_8311_0242ac1c0002level0_row13\" class=\"row_heading level0 row13\" >20</th>\n",
              "                        <td id=\"T_115653f2_1f92_11ea_8311_0242ac1c0002row13_col0\" class=\"data row13 col0\" >ext_shapeHSM_HsmSourceMoments_xy</td>\n",
              "                        <td id=\"T_115653f2_1f92_11ea_8311_0242ac1c0002row13_col1\" class=\"data row13 col1\" >0.000168481</td>\n",
              "            </tr>\n",
              "            <tr>\n",
              "                        <th id=\"T_115653f2_1f92_11ea_8311_0242ac1c0002level0_row14\" class=\"row_heading level0 row14\" >16</th>\n",
              "                        <td id=\"T_115653f2_1f92_11ea_8311_0242ac1c0002row14_col0\" class=\"data row14 col0\" >ext_shapeHSM_HsmPsfMoments_yy</td>\n",
              "                        <td id=\"T_115653f2_1f92_11ea_8311_0242ac1c0002row14_col1\" class=\"data row14 col1\" >6.68843e-05</td>\n",
              "            </tr>\n",
              "            <tr>\n",
              "                        <th id=\"T_115653f2_1f92_11ea_8311_0242ac1c0002level0_row15\" class=\"row_heading level0 row15\" >12</th>\n",
              "                        <td id=\"T_115653f2_1f92_11ea_8311_0242ac1c0002row15_col0\" class=\"data row15 col0\" >base_SdssShape_psf_yy</td>\n",
              "                        <td id=\"T_115653f2_1f92_11ea_8311_0242ac1c0002row15_col1\" class=\"data row15 col1\" >6.08836e-05</td>\n",
              "            </tr>\n",
              "            <tr>\n",
              "                        <th id=\"T_115653f2_1f92_11ea_8311_0242ac1c0002level0_row16\" class=\"row_heading level0 row16\" >15</th>\n",
              "                        <td id=\"T_115653f2_1f92_11ea_8311_0242ac1c0002row16_col0\" class=\"data row16 col0\" >ext_shapeHSM_HsmPsfMoments_xx</td>\n",
              "                        <td id=\"T_115653f2_1f92_11ea_8311_0242ac1c0002row16_col1\" class=\"data row16 col1\" >5.94846e-05</td>\n",
              "            </tr>\n",
              "            <tr>\n",
              "                        <th id=\"T_115653f2_1f92_11ea_8311_0242ac1c0002level0_row17\" class=\"row_heading level0 row17\" >14</th>\n",
              "                        <td id=\"T_115653f2_1f92_11ea_8311_0242ac1c0002row17_col0\" class=\"data row17 col0\" >ext_shapeHSM_HsmPsfMoments_y</td>\n",
              "                        <td id=\"T_115653f2_1f92_11ea_8311_0242ac1c0002row17_col1\" class=\"data row17 col1\" >5.61176e-05</td>\n",
              "            </tr>\n",
              "            <tr>\n",
              "                        <th id=\"T_115653f2_1f92_11ea_8311_0242ac1c0002level0_row18\" class=\"row_heading level0 row18\" >1</th>\n",
              "                        <td id=\"T_115653f2_1f92_11ea_8311_0242ac1c0002row18_col0\" class=\"data row18 col0\" >coord_ra</td>\n",
              "                        <td id=\"T_115653f2_1f92_11ea_8311_0242ac1c0002row18_col1\" class=\"data row18 col1\" >5.5412e-05</td>\n",
              "            </tr>\n",
              "            <tr>\n",
              "                        <th id=\"T_115653f2_1f92_11ea_8311_0242ac1c0002level0_row19\" class=\"row_heading level0 row19\" >17</th>\n",
              "                        <td id=\"T_115653f2_1f92_11ea_8311_0242ac1c0002row19_col0\" class=\"data row19 col0\" >ext_shapeHSM_HsmPsfMoments_xy</td>\n",
              "                        <td id=\"T_115653f2_1f92_11ea_8311_0242ac1c0002row19_col1\" class=\"data row19 col1\" >5.39792e-05</td>\n",
              "            </tr>\n",
              "            <tr>\n",
              "                        <th id=\"T_115653f2_1f92_11ea_8311_0242ac1c0002level0_row20\" class=\"row_heading level0 row20\" >13</th>\n",
              "                        <td id=\"T_115653f2_1f92_11ea_8311_0242ac1c0002row20_col0\" class=\"data row20 col0\" >base_SdssShape_psf_xy</td>\n",
              "                        <td id=\"T_115653f2_1f92_11ea_8311_0242ac1c0002row20_col1\" class=\"data row20 col1\" >3.33453e-05</td>\n",
              "            </tr>\n",
              "            <tr>\n",
              "                        <th id=\"T_115653f2_1f92_11ea_8311_0242ac1c0002level0_row21\" class=\"row_heading level0 row21\" >11</th>\n",
              "                        <td id=\"T_115653f2_1f92_11ea_8311_0242ac1c0002row21_col0\" class=\"data row21 col0\" >base_SdssShape_psf_xx</td>\n",
              "                        <td id=\"T_115653f2_1f92_11ea_8311_0242ac1c0002row21_col1\" class=\"data row21 col1\" >2.12318e-05</td>\n",
              "            </tr>\n",
              "    </tbody></table>"
            ],
            "text/plain": [
              "<pandas.io.formats.style.Styler at 0x7f36f736cba8>"
            ]
          },
          "metadata": {
            "tags": []
          },
          "execution_count": 82
        }
      ]
    },
    {
      "cell_type": "markdown",
      "metadata": {
        "id": "9UrQZPpLpBQW",
        "colab_type": "text"
      },
      "source": [
        "# Model Evaluation"
      ]
    },
    {
      "cell_type": "code",
      "metadata": {
        "id": "0K_8siCI3aFt",
        "colab_type": "code",
        "colab": {
          "base_uri": "https://localhost:8080/",
          "height": 172
        },
        "outputId": "d03971a8-e335-4ec6-a84b-916df508c980"
      },
      "source": [
        "import eli5"
      ],
      "execution_count": 75,
      "outputs": [
        {
          "output_type": "stream",
          "text": [
            "/usr/local/lib/python3.6/dist-packages/sklearn/utils/deprecation.py:144: FutureWarning: The sklearn.metrics.scorer module is  deprecated in version 0.22 and will be removed in version 0.24. The corresponding classes / functions should instead be imported from sklearn.metrics. Anything that cannot be imported from sklearn.metrics is now part of the private API.\n",
            "  warnings.warn(message, FutureWarning)\n",
            "/usr/local/lib/python3.6/dist-packages/sklearn/utils/deprecation.py:144: FutureWarning: The sklearn.feature_selection.base module is  deprecated in version 0.22 and will be removed in version 0.24. The corresponding classes / functions should instead be imported from sklearn.feature_selection. Anything that cannot be imported from sklearn.feature_selection is now part of the private API.\n",
            "  warnings.warn(message, FutureWarning)\n",
            "Using TensorFlow backend.\n"
          ],
          "name": "stderr"
        },
        {
          "output_type": "display_data",
          "data": {
            "text/html": [
              "<p style=\"color: red;\">\n",
              "The default version of TensorFlow in Colab will soon switch to TensorFlow 2.x.<br>\n",
              "We recommend you <a href=\"https://www.tensorflow.org/guide/migrate\" target=\"_blank\">upgrade</a> now \n",
              "or ensure your notebook will continue to use TensorFlow 1.x via the <code>%tensorflow_version 1.x</code> magic:\n",
              "<a href=\"https://colab.research.google.com/notebooks/tensorflow_version.ipynb\" target=\"_blank\">more info</a>.</p>\n"
            ],
            "text/plain": [
              "<IPython.core.display.HTML object>"
            ]
          },
          "metadata": {
            "tags": []
          }
        }
      ]
    },
    {
      "cell_type": "code",
      "metadata": {
        "id": "k3Tf550ZpDNc",
        "colab_type": "code",
        "colab": {
          "base_uri": "https://localhost:8080/",
          "height": 216
        },
        "outputId": "ba9fec58-61be-4080-98da-9b59f0554f5b"
      },
      "source": [
        "eli5.show_weights(model,feature_names=feature_names,top=10)"
      ],
      "execution_count": 81,
      "outputs": [
        {
          "output_type": "execute_result",
          "data": {
            "text/html": [
              "\n",
              "    <style>\n",
              "    table.eli5-weights tr:hover {\n",
              "        filter: brightness(85%);\n",
              "    }\n",
              "</style>\n",
              "\n",
              "\n",
              "\n",
              "    \n",
              "\n",
              "    \n",
              "\n",
              "    \n",
              "\n",
              "    \n",
              "\n",
              "    \n",
              "\n",
              "    \n",
              "\n",
              "\n",
              "    \n",
              "\n",
              "    \n",
              "\n",
              "    \n",
              "\n",
              "    \n",
              "\n",
              "    \n",
              "\n",
              "    \n",
              "\n",
              "\n",
              "    \n",
              "\n",
              "    \n",
              "\n",
              "    \n",
              "\n",
              "    \n",
              "\n",
              "    \n",
              "        <table class=\"eli5-weights eli5-feature-importances\" style=\"border-collapse: collapse; border: none; margin-top: 0em; table-layout: auto;\">\n",
              "    <thead>\n",
              "    <tr style=\"border: none;\">\n",
              "        <th style=\"padding: 0 1em 0 0.5em; text-align: right; border: none;\">Weight</th>\n",
              "        <th style=\"padding: 0 0.5em 0 0.5em; text-align: left; border: none;\">Feature</th>\n",
              "    </tr>\n",
              "    </thead>\n",
              "    <tbody>\n",
              "    \n",
              "        <tr style=\"background-color: hsl(120, 100.00%, 80.00%); border: none;\">\n",
              "            <td style=\"padding: 0 1em 0 0.5em; text-align: right; border: none;\">\n",
              "                0.5676\n",
              "                \n",
              "                    &plusmn; 0.3050\n",
              "                \n",
              "            </td>\n",
              "            <td style=\"padding: 0 0.5em 0 0.5em; text-align: left; border: none;\">\n",
              "                base_SdssShape_yySigma\n",
              "            </td>\n",
              "        </tr>\n",
              "    \n",
              "        <tr style=\"background-color: hsl(120, 100.00%, 90.56%); border: none;\">\n",
              "            <td style=\"padding: 0 1em 0 0.5em; text-align: right; border: none;\">\n",
              "                0.1942\n",
              "                \n",
              "                    &plusmn; 0.3725\n",
              "                \n",
              "            </td>\n",
              "            <td style=\"padding: 0 0.5em 0 0.5em; text-align: left; border: none;\">\n",
              "                base_SdssShape_xySigma\n",
              "            </td>\n",
              "        </tr>\n",
              "    \n",
              "        <tr style=\"background-color: hsl(120, 100.00%, 94.82%); border: none;\">\n",
              "            <td style=\"padding: 0 1em 0 0.5em; text-align: right; border: none;\">\n",
              "                0.0823\n",
              "                \n",
              "                    &plusmn; 0.2874\n",
              "                \n",
              "            </td>\n",
              "            <td style=\"padding: 0 0.5em 0 0.5em; text-align: left; border: none;\">\n",
              "                base_SdssShape_xxSigma\n",
              "            </td>\n",
              "        </tr>\n",
              "    \n",
              "        <tr style=\"background-color: hsl(120, 100.00%, 97.16%); border: none;\">\n",
              "            <td style=\"padding: 0 1em 0 0.5em; text-align: right; border: none;\">\n",
              "                0.0350\n",
              "                \n",
              "                    &plusmn; 0.3057\n",
              "                \n",
              "            </td>\n",
              "            <td style=\"padding: 0 0.5em 0 0.5em; text-align: left; border: none;\">\n",
              "                base_SdssShape_yy\n",
              "            </td>\n",
              "        </tr>\n",
              "    \n",
              "        <tr style=\"background-color: hsl(120, 100.00%, 97.41%); border: none;\">\n",
              "            <td style=\"padding: 0 1em 0 0.5em; text-align: right; border: none;\">\n",
              "                0.0307\n",
              "                \n",
              "                    &plusmn; 0.3007\n",
              "                \n",
              "            </td>\n",
              "            <td style=\"padding: 0 0.5em 0 0.5em; text-align: left; border: none;\">\n",
              "                ext_shapeHSM_HsmSourceMoments_yy\n",
              "            </td>\n",
              "        </tr>\n",
              "    \n",
              "        <tr style=\"background-color: hsl(120, 100.00%, 97.49%); border: none;\">\n",
              "            <td style=\"padding: 0 1em 0 0.5em; text-align: right; border: none;\">\n",
              "                0.0293\n",
              "                \n",
              "                    &plusmn; 0.2440\n",
              "                \n",
              "            </td>\n",
              "            <td style=\"padding: 0 0.5em 0 0.5em; text-align: left; border: none;\">\n",
              "                base_SdssCentroid_ySigma\n",
              "            </td>\n",
              "        </tr>\n",
              "    \n",
              "        <tr style=\"background-color: hsl(120, 100.00%, 97.86%); border: none;\">\n",
              "            <td style=\"padding: 0 1em 0 0.5em; text-align: right; border: none;\">\n",
              "                0.0233\n",
              "                \n",
              "                    &plusmn; 0.2665\n",
              "                \n",
              "            </td>\n",
              "            <td style=\"padding: 0 0.5em 0 0.5em; text-align: left; border: none;\">\n",
              "                base_SdssShape_xx\n",
              "            </td>\n",
              "        </tr>\n",
              "    \n",
              "        <tr style=\"background-color: hsl(120, 100.00%, 98.21%); border: none;\">\n",
              "            <td style=\"padding: 0 1em 0 0.5em; text-align: right; border: none;\">\n",
              "                0.0181\n",
              "                \n",
              "                    &plusmn; 0.2684\n",
              "                \n",
              "            </td>\n",
              "            <td style=\"padding: 0 0.5em 0 0.5em; text-align: left; border: none;\">\n",
              "                ext_shapeHSM_HsmSourceMoments_xx\n",
              "            </td>\n",
              "        </tr>\n",
              "    \n",
              "        <tr style=\"background-color: hsl(120, 100.00%, 98.65%); border: none;\">\n",
              "            <td style=\"padding: 0 1em 0 0.5em; text-align: right; border: none;\">\n",
              "                0.0120\n",
              "                \n",
              "                    &plusmn; 0.2400\n",
              "                \n",
              "            </td>\n",
              "            <td style=\"padding: 0 0.5em 0 0.5em; text-align: left; border: none;\">\n",
              "                base_SdssCentroid_xSigma\n",
              "            </td>\n",
              "        </tr>\n",
              "    \n",
              "        <tr style=\"background-color: hsl(120, 100.00%, 99.28%); border: none;\">\n",
              "            <td style=\"padding: 0 1em 0 0.5em; text-align: right; border: none;\">\n",
              "                0.0049\n",
              "                \n",
              "                    &plusmn; 0.0491\n",
              "                \n",
              "            </td>\n",
              "            <td style=\"padding: 0 0.5em 0 0.5em; text-align: left; border: none;\">\n",
              "                base_ClassificationExtendedness_value\n",
              "            </td>\n",
              "        </tr>\n",
              "    \n",
              "    \n",
              "        \n",
              "            <tr style=\"background-color: hsl(120, 100.00%, 99.28%); border: none;\">\n",
              "                <td colspan=\"2\" style=\"padding: 0 0.5em 0 0.5em; text-align: center; border: none; white-space: nowrap;\">\n",
              "                    <i>&hellip; 12 more &hellip;</i>\n",
              "                </td>\n",
              "            </tr>\n",
              "        \n",
              "    \n",
              "    </tbody>\n",
              "</table>\n",
              "    \n",
              "\n",
              "    \n",
              "\n",
              "\n",
              "    \n",
              "\n",
              "    \n",
              "\n",
              "    \n",
              "\n",
              "    \n",
              "\n",
              "    \n",
              "\n",
              "    \n",
              "\n",
              "\n",
              "\n"
            ],
            "text/plain": [
              "<IPython.core.display.HTML object>"
            ]
          },
          "metadata": {
            "tags": []
          },
          "execution_count": 81
        }
      ]
    },
    {
      "cell_type": "code",
      "metadata": {
        "id": "i8gZZeBB3qQ7",
        "colab_type": "code",
        "colab": {}
      },
      "source": [
        ""
      ],
      "execution_count": 0,
      "outputs": []
    }
  ]
}